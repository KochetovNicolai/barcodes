{
 "cells": [
  {
   "cell_type": "code",
   "execution_count": 3,
   "metadata": {
    "collapsed": true
   },
   "outputs": [],
   "source": [
    "from keras.applications.vgg16 import VGG16\n",
    "import keras"
   ]
  },
  {
   "cell_type": "code",
   "execution_count": 6,
   "metadata": {
    "collapsed": true
   },
   "outputs": [],
   "source": [
    "vgg16 = keras.applications.vgg16.VGG16(\n",
    "            include_top=False, weights='imagenet', input_tensor=None, input_shape=(512, 512, 3))"
   ]
  },
  {
   "cell_type": "code",
   "execution_count": 7,
   "metadata": {},
   "outputs": [
    {
     "name": "stdout",
     "output_type": "stream",
     "text": [
      "_________________________________________________________________\n",
      "Layer (type)                 Output Shape              Param #   \n",
      "=================================================================\n",
      "input_2 (InputLayer)         (None, 512, 512, 3)       0         \n",
      "_________________________________________________________________\n",
      "block1_conv1 (Conv2D)        (None, 512, 512, 64)      1792      \n",
      "_________________________________________________________________\n",
      "block1_conv2 (Conv2D)        (None, 512, 512, 64)      36928     \n",
      "_________________________________________________________________\n",
      "block1_pool (MaxPooling2D)   (None, 256, 256, 64)      0         \n",
      "_________________________________________________________________\n",
      "block2_conv1 (Conv2D)        (None, 256, 256, 128)     73856     \n",
      "_________________________________________________________________\n",
      "block2_conv2 (Conv2D)        (None, 256, 256, 128)     147584    \n",
      "_________________________________________________________________\n",
      "block2_pool (MaxPooling2D)   (None, 128, 128, 128)     0         \n",
      "_________________________________________________________________\n",
      "block3_conv1 (Conv2D)        (None, 128, 128, 256)     295168    \n",
      "_________________________________________________________________\n",
      "block3_conv2 (Conv2D)        (None, 128, 128, 256)     590080    \n",
      "_________________________________________________________________\n",
      "block3_conv3 (Conv2D)        (None, 128, 128, 256)     590080    \n",
      "_________________________________________________________________\n",
      "block3_pool (MaxPooling2D)   (None, 64, 64, 256)       0         \n",
      "_________________________________________________________________\n",
      "block4_conv1 (Conv2D)        (None, 64, 64, 512)       1180160   \n",
      "_________________________________________________________________\n",
      "block4_conv2 (Conv2D)        (None, 64, 64, 512)       2359808   \n",
      "_________________________________________________________________\n",
      "block4_conv3 (Conv2D)        (None, 64, 64, 512)       2359808   \n",
      "_________________________________________________________________\n",
      "block4_pool (MaxPooling2D)   (None, 32, 32, 512)       0         \n",
      "_________________________________________________________________\n",
      "block5_conv1 (Conv2D)        (None, 32, 32, 512)       2359808   \n",
      "_________________________________________________________________\n",
      "block5_conv2 (Conv2D)        (None, 32, 32, 512)       2359808   \n",
      "_________________________________________________________________\n",
      "block5_conv3 (Conv2D)        (None, 32, 32, 512)       2359808   \n",
      "_________________________________________________________________\n",
      "block5_pool (MaxPooling2D)   (None, 16, 16, 512)       0         \n",
      "=================================================================\n",
      "Total params: 14,714,688\n",
      "Trainable params: 14,714,688\n",
      "Non-trainable params: 0\n",
      "_________________________________________________________________\n"
     ]
    }
   ],
   "source": [
    "vgg16.summary()"
   ]
  },
  {
   "cell_type": "code",
   "execution_count": 1,
   "metadata": {
    "collapsed": true
   },
   "outputs": [],
   "source": [
    "import numpy as np"
   ]
  },
  {
   "cell_type": "code",
   "execution_count": 3,
   "metadata": {},
   "outputs": [
    {
     "name": "stdout",
     "output_type": "stream",
     "text": [
      "[[[1 5]\n",
      "  [2 6]]\n",
      "\n",
      " [[3 7]\n",
      "  [4 8]]]\n",
      "[[1 2 5 6]\n",
      " [3 4 7 8]]\n"
     ]
    }
   ],
   "source": [
    "a = np.array([[1, 2], [3, 4]])\n",
    "b = np.array([[5, 6], [7, 8]])\n",
    "c = np.append(np.expand_dims(a, axis=2), np.expand_dims(b, axis=2), axis=2)\n",
    "print c\n",
    "d = np.array([[[1, 2],[3,4]], [[5,6],[7,8]]])\n",
    "print np.concatenate(d, axis=1)\n",
    "#print (*(1,2,3), 4)"
   ]
  },
  {
   "cell_type": "code",
   "execution_count": 8,
   "metadata": {},
   "outputs": [
    {
     "name": "stdout",
     "output_type": "stream",
     "text": [
      "[[[ 0.  1.  2.]\n",
      "  [ 1.  2.  3.]\n",
      "  [ 2.  3.  4.]\n",
      "  [ 3.  4.  5.]]\n",
      "\n",
      " [[ 1.  2.  3.]\n",
      "  [ 2.  3.  4.]\n",
      "  [ 3.  4.  5.]\n",
      "  [ 4.  5.  6.]]\n",
      "\n",
      " [[ 2.  3.  4.]\n",
      "  [ 3.  4.  5.]\n",
      "  [ 4.  5.  6.]\n",
      "  [ 5.  6.  7.]]]\n",
      "[[[ 0. -1. -2.]\n",
      "  [-1. -2. -3.]\n",
      "  [-2. -3. -4.]]\n",
      "\n",
      " [[-1. -2. -3.]\n",
      "  [-2. -3. -4.]\n",
      "  [-3. -4. -5.]]\n",
      "\n",
      " [[-2. -3. -4.]\n",
      "  [-3. -4. -5.]\n",
      "  [-4. -5. -6.]]\n",
      "\n",
      " [[-3. -4. -5.]\n",
      "  [-4. -5. -6.]\n",
      "  [-5. -6. -7.]]]\n"
     ]
    }
   ],
   "source": [
    "a = np.zeros((3, 4, 3))\n",
    "b = np.ones((4, 3, 3))\n",
    "for i in range(3):\n",
    "    for j in range(4):\n",
    "        for k in range(3):\n",
    "            a[i, j, k] = i + j + k\n",
    "for i in range(4):\n",
    "    for j in range(3):\n",
    "        for k in range(3):\n",
    "            b[i, j, k] = -(i + j + k)\n",
    "print a\n",
    "print b"
   ]
  },
  {
   "cell_type": "code",
   "execution_count": 17,
   "metadata": {},
   "outputs": [
    {
     "name": "stdout",
     "output_type": "stream",
     "text": [
      "[array([[0, 1, 2],\n",
      "       [0, 1, 2],\n",
      "       [0, 1, 2]]), array([[0, 0, 0],\n",
      "       [1, 1, 1],\n",
      "       [2, 2, 2]])]\n",
      "[[[ 0.  1.  2.]\n",
      "  [ 1.  2.  3.]\n",
      "  [ 2.  3.  4.]]\n",
      "\n",
      " [[ 1.  2.  3.]\n",
      "  [ 2.  3.  4.]\n",
      "  [ 3.  4.  5.]]\n",
      "\n",
      " [[ 2.  3.  4.]\n",
      "  [ 3.  4.  5.]\n",
      "  [ 4.  5.  6.]]]\n",
      "[[[ 0. -1. -2.]\n",
      "  [-1. -2. -3.]\n",
      "  [-2. -3. -4.]\n",
      "  [ 3.  4.  5.]]\n",
      "\n",
      " [[-1. -2. -3.]\n",
      "  [-2. -3. -4.]\n",
      "  [-3. -4. -5.]\n",
      "  [ 4.  5.  6.]]\n",
      "\n",
      " [[-2. -3. -4.]\n",
      "  [-3. -4. -5.]\n",
      "  [-4. -5. -6.]\n",
      "  [ 5.  6.  7.]]]\n"
     ]
    }
   ],
   "source": [
    "print np.meshgrid(np.arange(3), np.arange(3))\n",
    "print a[np.meshgrid(np.arange(3), np.arange(3))]\n",
    "a[np.meshgrid(np.arange(3), np.arange(3))] = b[np.meshgrid(np.arange(3), np.arange(3))]\n",
    "print a"
   ]
  },
  {
   "cell_type": "code",
   "execution_count": 20,
   "metadata": {},
   "outputs": [
    {
     "name": "stdout",
     "output_type": "stream",
     "text": [
      "[[[-4. -5. -6.]\n",
      "  [ 5.  6.  7.]]]\n"
     ]
    }
   ],
   "source": [
    "print a[2:100, 2:100, :]"
   ]
  },
  {
   "cell_type": "code",
   "execution_count": null,
   "metadata": {
    "collapsed": true
   },
   "outputs": [],
   "source": []
  }
 ],
 "metadata": {
  "kernelspec": {
   "display_name": "Python 2",
   "language": "python",
   "name": "python2"
  },
  "language_info": {
   "codemirror_mode": {
    "name": "ipython",
    "version": 2
   },
   "file_extension": ".py",
   "mimetype": "text/x-python",
   "name": "python",
   "nbconvert_exporter": "python",
   "pygments_lexer": "ipython2",
   "version": "2.7.14"
  }
 },
 "nbformat": 4,
 "nbformat_minor": 2
}
