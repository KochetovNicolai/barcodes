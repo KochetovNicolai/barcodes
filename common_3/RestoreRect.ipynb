{
 "cells": [
  {
   "cell_type": "code",
   "execution_count": 1,
   "metadata": {},
   "outputs": [
    {
     "name": "stdout",
     "output_type": "stream",
     "text": [
      "/home/nik-kochetov/work\n",
      "/home/nik-kochetov/work/common\n",
      "/home/nik-kochetov/work/Barcodes_1d/annotations.json\n",
      "/home/nik-kochetov/work/VOC/JPEGImages\n"
     ]
    }
   ],
   "source": [
    "import os\n",
    "BAR = 'Barcodes_1d'\n",
    "ROOT = open('../root').read().strip()\n",
    "print ROOT\n",
    "img_path = os.path.join(ROOT, 'common')\n",
    "print img_path\n",
    "anno_path = os.path.join(ROOT, BAR, 'annotations.json')\n",
    "print anno_path\n",
    "voc_path = os.path.join(ROOT, 'VOC', 'JPEGImages')\n",
    "print voc_path"
   ]
  },
  {
   "cell_type": "code",
   "execution_count": 2,
   "metadata": {},
   "outputs": [
    {
     "name": "stderr",
     "output_type": "stream",
     "text": [
      "Using TensorFlow backend.\n"
     ]
    }
   ],
   "source": [
    "import converter\n",
    "from model import SSDModel\n",
    "from matplotlib.pyplot import imshow\n",
    "import numpy as np\n",
    "from PIL import Image\n",
    "import os\n",
    "import matplotlib.pyplot as plt\n",
    "import matplotlib.patches as patches\n",
    "from keras.preprocessing import image\n",
    "from keras.applications.vgg16 import preprocess_input\n",
    "%matplotlib inline"
   ]
  },
  {
   "cell_type": "code",
   "execution_count": 3,
   "metadata": {},
   "outputs": [],
   "source": [
    "model = SSDModel()"
   ]
  },
  {
   "cell_type": "code",
   "execution_count": 4,
   "metadata": {},
   "outputs": [],
   "source": [
    "path = os.path.join(ROOT, 'gen3_models_1', 'model.24-02-2018.gen3.ssd.05.hdf5')\n",
    "model.model.load_weights(path)"
   ]
  },
  {
   "cell_type": "code",
   "execution_count": 5,
   "metadata": {},
   "outputs": [
    {
     "name": "stdout",
     "output_type": "stream",
     "text": [
      "8111\n",
      "{u'name': u'0001.jpg', u'shape': [3585, 2661, 3], u'Rects': [[594, 1081, 326, 575], [568, 1054, 1131, 1382], [593, 1074, 718, 968], [572, 1057, 1566, 1817], [564, 1050, 1964, 2217], [567, 1048, 2437, 2691]], u'path': u'Barcodes_1d/UPC-E', u'id': u'0001', u'Types': [u'UPCE', u'UPCE', u'UPCE', u'UPCE', u'UPCE', u'UPCE']}\n"
     ]
    }
   ],
   "source": [
    "import json\n",
    "with open(anno_path) as f:\n",
    "    annos = json.loads(f.read())\n",
    "print len(annos)\n",
    "print annos[0]"
   ]
  },
  {
   "cell_type": "code",
   "execution_count": 6,
   "metadata": {},
   "outputs": [
    {
     "name": "stdout",
     "output_type": "stream",
     "text": [
      "/home/nik-kochetov/work/Barcodes_1d/UPC-E/0001.jpg\n"
     ]
    }
   ],
   "source": [
    "anno = annos[0]\n",
    "curr_img_path = os.path.join(ROOT, anno['path'], anno['name'])\n",
    "print curr_img_path"
   ]
  },
  {
   "cell_type": "code",
   "execution_count": 7,
   "metadata": {},
   "outputs": [
    {
     "data": {
      "text/plain": [
       "<matplotlib.image.AxesImage at 0x7fa4341f9ed0>"
      ]
     },
     "execution_count": 7,
     "metadata": {},
     "output_type": "execute_result"
    },
    {
     "data": {
      "image/png": "[encoded data removed]",
      "text/plain": [
       "<matplotlib.figure.Figure at 0x7fa45c9d8d10>"
      ]
     },
     "metadata": {},
     "output_type": "display_data"
    }
   ],
   "source": [
    "img = np.asarray(Image.open(curr_img_path))\n",
    "imshow(img)"
   ]
  },
  {
   "cell_type": "code",
   "execution_count": 8,
   "metadata": {},
   "outputs": [
    {
     "data": {
      "text/plain": [
       "(3585, 2661, 3)"
      ]
     },
     "execution_count": 8,
     "metadata": {},
     "output_type": "execute_result"
    }
   ],
   "source": [
    "img.shape"
   ]
  },
  {
   "cell_type": "code",
   "execution_count": 9,
   "metadata": {},
   "outputs": [
    {
     "name": "stdout",
     "output_type": "stream",
     "text": [
      "(896, 665)\n"
     ]
    }
   ],
   "source": [
    "factor = 4\n",
    "shape = tuple(map(lambda x: x / factor, img.shape[:2]))\n",
    "print shape"
   ]
  },
  {
   "cell_type": "code",
   "execution_count": 10,
   "metadata": {},
   "outputs": [
    {
     "name": "stdout",
     "output_type": "stream",
     "text": [
      "(1, 896, 665, 3)\n"
     ]
    }
   ],
   "source": [
    "img_2 = image.load_img(curr_img_path, target_size=shape)\n",
    "img_2 = image.img_to_array(img_2)\n",
    "img_2 = img_2.reshape([1] + list(img_2.shape))\n",
    "img_2 = preprocess_input(img_2)\n",
    "print img_2.shape"
   ]
  },
  {
   "cell_type": "code",
   "execution_count": 11,
   "metadata": {
    "scrolled": false
   },
   "outputs": [],
   "source": [
    "tensor = model.model.predict(img_2) #img.reshape([1]  + list(img.shape)))"
   ]
  },
  {
   "cell_type": "code",
   "execution_count": 12,
   "metadata": {},
   "outputs": [
    {
     "name": "stdout",
     "output_type": "stream",
     "text": [
      "(1, 27, 19, 3)\n",
      "[ -0.86372715   0.76470941  -0.06655782 ..., -20.23779488   4.44298506\n",
      "  45.85625839]\n",
      "(1, 27, 19, 3)\n",
      "[  0.03925363  -0.11836647   0.22704741 ...,   3.69485807  -9.40776825\n",
      "  14.92354012]\n",
      "(1, 27, 19, 2)\n",
      "[ -0.6553179    0.6791029    1.24575114 ..., -19.99058533  16.62624168\n",
      " -13.56785393]\n"
     ]
    }
   ],
   "source": [
    "for val in tensor:\n",
    "    print val.shape\n",
    "    print val[np.nonzero(val)]"
   ]
  },
  {
   "cell_type": "code",
   "execution_count": 13,
   "metadata": {},
   "outputs": [
    {
     "name": "stdout",
     "output_type": "stream",
     "text": [
      "[-111.00476837  -94.97498322  -88.48622894 ...,  177.17224121  199.46881104\n",
      "  206.03985596]\n"
     ]
    }
   ],
   "source": [
    "print np.sort(tensor[0][np.nonzero(tensor[0])])"
   ]
  },
  {
   "cell_type": "code",
   "execution_count": 14,
   "metadata": {},
   "outputs": [],
   "source": [
    "import generator\n",
    "reload(generator)\n",
    "from generator import Generator\n",
    "ssd_generator = Generator(ROOT, model)"
   ]
  },
  {
   "cell_type": "code",
   "execution_count": 15,
   "metadata": {},
   "outputs": [],
   "source": [
    "generator = ssd_generator.generate(annos, 64, True)"
   ]
  },
  {
   "cell_type": "code",
   "execution_count": 66,
   "metadata": {},
   "outputs": [
    {
     "name": "stdout",
     "output_type": "stream",
     "text": [
      "next batch:\n",
      "img: Barcodes_1d/Code 128C/0197.jpg\n",
      "window:  Rect(71, 8, 1095, 1032)\n",
      "tensors: [(3, 1, 0.0, 0.50390625, 1.0, 1.0, 0.49609375), (4, 1, 0.0, 0.00390625, 1.0, 0.5078125, 0.50390625), (4, 2, 0.0, 0.00390625, 0.7734375, 0.5078125, 0.389739990234375), (6, 1, 0.0, 0.3359375, 1.0, 0.84765625, 0.51171875), (6, 2, 0.0, 0.3359375, 1.0, 0.84765625, 0.51171875), (1, 0, 0.25, 0.48046875, 0.9375, 0.97265625, 0.33837890625), (2, 0, 0.25, 0.0, 0.9375, 0.47265625, 0.324951171875), (1, 1, 0.0, 0.48046875, 0.4375, 0.97265625, 0.21533203125)]\n"
     ]
    }
   ],
   "source": [
    "gen = next(generator)"
   ]
  },
  {
   "cell_type": "code",
   "execution_count": 67,
   "metadata": {},
   "outputs": [
    {
     "name": "stdout",
     "output_type": "stream",
     "text": [
      "tb_bbox (1, 15, 15, 4)\n",
      "class (1, 15, 15, 2)\n",
      "lr_bbox (1, 15, 15, 4)\n",
      "(1, 512, 512, 3)\n"
     ]
    }
   ],
   "source": [
    "for key, value in gen[1].items():\n",
    "    print key, value.shape\n",
    "print gen[0]['input'].shape"
   ]
  },
  {
   "cell_type": "code",
   "execution_count": 68,
   "metadata": {},
   "outputs": [
    {
     "name": "stdout",
     "output_type": "stream",
     "text": [
      "(1, 512, 512, 3)\n"
     ]
    }
   ],
   "source": [
    "img = gen[0]['input']\n",
    "print img.shape"
   ]
  },
  {
   "cell_type": "code",
   "execution_count": 69,
   "metadata": {},
   "outputs": [
    {
     "name": "stdout",
     "output_type": "stream",
     "text": [
      "255.0 0.0\n"
     ]
    },
    {
     "data": {
      "image/png": "[encoded data removed]",
      "text/plain": [
       "<matplotlib.figure.Figure at 0x7fa4221a5d50>"
      ]
     },
     "metadata": {},
     "output_type": "display_data"
    }
   ],
   "source": [
    "def show_img_from_gen(ax, img):\n",
    "    def unprocess(y):\n",
    "            x = np.copy(y)\n",
    "            # Zero-decenter by mean pixel\n",
    "            x[:, :, :, 0] += 103.939\n",
    "            x[:, :, :, 1] += 116.779\n",
    "            x[:, :, :, 2] += 123.68\n",
    "\n",
    "            # 'BGR'->'RGB'\n",
    "            x = x[:, :, :, ::-1]\n",
    "            print np.max(x), np.min(x)\n",
    "            return x / 265.0\n",
    "\n",
    "\n",
    "    ax.imshow(np.reshape(unprocess(img)[0], img.shape[1:]))\n",
    "    \n",
    "    \n",
    "fig, ax = plt.subplots(figsize=(12, 12))\n",
    "show_img_from_gen(ax, img)"
   ]
  },
  {
   "cell_type": "code",
   "execution_count": 70,
   "metadata": {},
   "outputs": [],
   "source": [
    "import converter\n",
    "reload(converter)\n",
    "ssd_converter = converter.Converter(model)"
   ]
  },
  {
   "cell_type": "code",
   "execution_count": 77,
   "metadata": {},
   "outputs": [],
   "source": [
    "tensors = model.model.predict(np.zeros((1,256, 256, 3))) # model.model.predict(img)"
   ]
  },
  {
   "cell_type": "code",
   "execution_count": 78,
   "metadata": {},
   "outputs": [
    {
     "name": "stdout",
     "output_type": "stream",
     "text": [
      "(1, 7, 7, 3)\n",
      "[-0.86372715  0.76470941 -0.06655782 -1.03879094  1.04348946 -0.16383053\n",
      " -1.03879094  1.04348946 -0.16383053 -1.03879094]\n",
      "(1, 7, 7, 3)\n",
      "[ 0.03925363 -0.11836647  0.22704741 -0.19975336  0.03361505  0.27317509\n",
      " -0.19975336  0.03361505  0.27317509 -0.19975336]\n",
      "(1, 7, 7, 2)\n",
      "[-0.6553179   0.6791029   1.24575114 -1.18920708  1.24575114 -1.18920708\n",
      "  1.24575114 -1.18920708  1.24575114 -1.18920708]\n"
     ]
    }
   ],
   "source": [
    "for val in tensors:\n",
    "    print val.shape\n",
    "    print val[np.nonzero(val)][:10]"
   ]
  },
  {
   "cell_type": "code",
   "execution_count": 62,
   "metadata": {
    "scrolled": false
   },
   "outputs": [
    {
     "name": "stdout",
     "output_type": "stream",
     "text": [
      "15 15\n",
      "8 8\n",
      "(1, 15, 15, 2)\n",
      "0.810434 0 0 0.120262 0.733108 0.326716 0.605789\n",
      "Rect(0.2405247837305069, 0.65343272686004639, 1.4662153720855713, 1.2115781307220459)\n",
      "Rect(15.393586158752441, 41.819694519042969, 93.837783813476562, 77.541000366210938)\n",
      "0.0402686 0 1 0.087554 0.789977 0.258563 0.585088\n",
      "Rect(1.1751079857349396, 0.51712548732757568, 2.5799543857574463, 1.1701756715774536)\n",
      "Rect(75.206911087036133, 33.096031188964844, 165.11708068847656, 74.891242980957031)\n",
      "0.0402686 0 2 0.087554 0.789977 0.258563 0.585088\n",
      "Rect(2.1751079857349396, 0.51712548732757568, 3.5799543857574463, 1.1701756715774536)\n",
      "Rect(139.20691108703613, 33.096031188964844, 229.11708068847656, 74.891242980957031)\n",
      "0.0402686 0 3 0.087554 0.789977 0.258563 0.585088\n",
      "Rect(3.1751079857349396, 0.51712548732757568, 4.5799543857574463, 1.1701756715774536)\n",
      "Rect(203.20691108703613, 33.096031188964844, 293.11708068847656, 74.891242980957031)\n",
      "0.0402686 0 4 0.087554 0.789977 0.258563 0.585088\n",
      "Rect(4.1751079857349396, 0.51712548732757568, 5.5799543857574463, 1.1701756715774536)\n",
      "Rect(267.20691108703613, 33.096031188964844, 357.11708068847656, 74.891242980957031)\n",
      "0.0402686 0 5 0.087554 0.789977 0.258563 0.585088\n",
      "Rect(5.1751079857349396, 0.51712548732757568, 6.5799543857574463, 1.1701756715774536)\n",
      "Rect(331.20691108703613, 33.096031188964844, 421.11708068847656, 74.891242980957031)\n",
      "0.0402686 0 6 0.087554 0.789977 0.258563 0.585088\n",
      "Rect(6.1751079857349396, 0.51712548732757568, 7.5799543857574463, 1.1701756715774536)\n",
      "Rect(395.20691108703613, 33.096031188964844, 485.11708068847656, 74.891242980957031)\n",
      "0.0402686 0 7 0.087554 0.789977 0.258563 0.585088\n",
      "Rect(7.1751079857349396, 0.51712548732757568, 8.5799543857574463, 1.1701756715774536)\n",
      "Rect(459.20691108703613, 33.096031188964844, 549.11708068847656, 74.891242980957031)\n",
      "0.0402686 0 8 0.087554 0.789977 0.258563 0.585088\n",
      "Rect(8.1751079857349396, 0.51712548732757568, 9.5799543857574463, 1.1701756715774536)\n",
      "Rect(523.20691108703613, 33.096031188964844, 613.11708068847656, 74.891242980957031)\n",
      "0.0402686 0 9 0.087554 0.789977 0.258563 0.585088\n",
      "Rect(9.1751079857349396, 0.51712548732757568, 10.579954385757446, 1.1701756715774536)\n",
      "Rect(587.20691108703613, 33.096031188964844, 677.11708068847656, 74.891242980957031)\n",
      "0.0402686 0 10 0.087554 0.789977 0.258563 0.585088\n",
      "Rect(10.17510798573494, 0.51712548732757568, 11.579954385757446, 1.1701756715774536)\n",
      "Rect(651.20691108703613, 33.096031188964844, 741.11708068847656, 74.891242980957031)\n",
      "0.0402686 0 11 0.087554 0.789977 0.258563 0.585088\n",
      "Rect(11.17510798573494, 0.51712548732757568, 12.579954385757446, 1.1701756715774536)\n",
      "Rect(715.20691108703613, 33.096031188964844, 805.11708068847656, 74.891242980957031)\n",
      "0.0402686 0 12 0.087554 0.789977 0.258563 0.585088\n",
      "Rect(12.17510798573494, 0.51712548732757568, 13.579954385757446, 1.1701756715774536)\n",
      "Rect(779.20691108703613, 33.096031188964844, 869.11708068847656, 74.891242980957031)\n",
      "0.0402686 0 13 0.087554 0.789977 0.258563 0.585088\n",
      "Rect(13.17510798573494, 0.51712548732757568, 14.579954385757446, 1.1701756715774536)\n",
      "Rect(843.20691108703613, 33.096031188964844, 933.11708068847656, 74.891242980957031)\n",
      "1.3401e-06 0 14 0.132877 0.774906 0.272066 0.62669\n",
      "Rect(14.265754997730255, 0.54413282871246338, 15.549811482429504, 1.253379225730896)\n",
      "Rect(913.00831985473633, 34.824501037597656, 995.18793487548828, 80.216270446777344)\n",
      "0.196719 1 0 0.137906 0.804726 0.307245 0.653519\n",
      "Rect(0.2758125364780426, 1.6144895553588867, 1.6094529628753662, 2.3070378303527832)\n",
      "Rect(17.652002334594727, 103.32733154296875, 103.00498962402344, 147.65042114257812)\n",
      "0.000685006 1 1 0.0881289 0.775894 0.266561 0.674745\n",
      "Rect(1.1762577444314957, 1.5331224203109741, 2.5517882108688354, 2.349489688873291)\n",
      "Rect(75.280495643615723, 98.119834899902344, 163.31444549560547, 150.36734008789062)\n",
      "0.000685006 1 2 0.0881289 0.775894 0.266561 0.674745\n",
      "Rect(2.1762577444314957, 1.5331224203109741, 3.5517882108688354, 2.349489688873291)\n",
      "Rect(139.28049564361572, 98.119834899902344, 227.31444549560547, 150.36734008789062)\n",
      "0.000685006 1 3 0.0881289 0.775894 0.266561 0.674745\n",
      "Rect(3.1762577444314957, 1.5331224203109741, 4.5517882108688354, 2.349489688873291)\n",
      "Rect(203.28049564361572, 98.119834899902344, 291.31444549560547, 150.36734008789062)\n",
      "0.000685006 1 4 0.0881289 0.775894 0.266561 0.674745\n",
      "Rect(4.1762577444314957, 1.5331224203109741, 5.5517882108688354, 2.349489688873291)\n",
      "Rect(267.28049564361572, 98.119834899902344, 355.31444549560547, 150.36734008789062)\n",
      "0.000685006 1 5 0.0881289 0.775894 0.266561 0.674745\n",
      "Rect(5.1762577444314957, 1.5331224203109741, 6.5517882108688354, 2.349489688873291)\n",
      "Rect(331.28049564361572, 98.119834899902344, 419.31444549560547, 150.36734008789062)\n",
      "0.000685006 1 6 0.0881289 0.775894 0.266561 0.674745\n",
      "Rect(6.1762577444314957, 1.5331224203109741, 7.5517882108688354, 2.349489688873291)\n",
      "Rect(395.28049564361572, 98.119834899902344, 483.31444549560547, 150.36734008789062)\n",
      "0.000685006 1 7 0.0881289 0.775894 0.266561 0.674745\n",
      "Rect(7.1762577444314957, 1.5331224203109741, 8.5517882108688354, 2.349489688873291)\n",
      "Rect(459.28049564361572, 98.119834899902344, 547.31444549560547, 150.36734008789062)\n",
      "0.000685006 1 8 0.0881289 0.775894 0.266561 0.674745\n",
      "Rect(8.1762577444314957, 1.5331224203109741, 9.5517882108688354, 2.349489688873291)\n",
      "Rect(523.28049564361572, 98.119834899902344, 611.31444549560547, 150.36734008789062)\n",
      "0.000685006 1 9 0.0881289 0.775894 0.266561 0.674745\n",
      "Rect(9.1762577444314957, 1.5331224203109741, 10.551788210868835, 2.349489688873291)\n",
      "Rect(587.28049564361572, 98.119834899902344, 675.31444549560547, 150.36734008789062)\n",
      "0.000685006 1 10 0.0881289 0.775894 0.266561 0.674745\n",
      "Rect(10.176257744431496, 1.5331224203109741, 11.551788210868835, 2.349489688873291)\n",
      "Rect(651.28049564361572, 98.119834899902344, 739.31444549560547, 150.36734008789062)\n",
      "0.000685006 1 11 0.0881289 0.775894 0.266561 0.674745\n",
      "Rect(11.176257744431496, 1.5331224203109741, 12.551788210868835, 2.349489688873291)\n",
      "Rect(715.28049564361572, 98.119834899902344, 803.31444549560547, 150.36734008789062)\n",
      "0.000685006 1 12 0.0881289 0.775894 0.266561 0.674745\n",
      "Rect(12.176257744431496, 1.5331224203109741, 13.551788210868835, 2.349489688873291)\n",
      "Rect(779.28049564361572, 98.119834899902344, 867.31444549560547, 150.36734008789062)\n",
      "0.000685006 1 13 0.0881289 0.775894 0.266561 0.674745\n",
      "Rect(13.176257744431496, 1.5331224203109741, 14.551788210868835, 2.349489688873291)\n",
      "Rect(843.28049564361572, 98.119834899902344, 931.31444549560547, 150.36734008789062)\n",
      "2.21094e-10 1 14 0.123463 0.725237 0.295543 0.688856\n",
      "Rect(14.246926754713058, 1.5910868644714355, 15.450474262237549, 2.3777110576629639)\n",
      "Rect(911.80331230163574, 101.82955932617188, 988.83035278320312, 152.17350769042969)\n",
      "0.196719 2 0 0.137906 0.804726 0.307245 0.653519\n",
      "Rect(0.2758125364780426, 2.6144895553588867, 1.6094529628753662, 3.3070378303527832)\n",
      "Rect(17.652002334594727, 167.32733154296875, 103.00498962402344, 211.65042114257812)\n",
      "0.000685006 2 1 0.0881289 0.775894 0.266561 0.674745\n",
      "Rect(1.1762577444314957, 2.5331224203109741, 2.5517882108688354, 3.349489688873291)\n",
      "Rect(75.280495643615723, 162.11983489990234, 163.31444549560547, 214.36734008789062)\n",
      "0.000685006 2 2 0.0881289 0.775894 0.266561 0.674745\n",
      "Rect(2.1762577444314957, 2.5331224203109741, 3.5517882108688354, 3.349489688873291)\n",
      "Rect(139.28049564361572, 162.11983489990234, 227.31444549560547, 214.36734008789062)\n",
      "0.000685006 2 3 0.0881289 0.775894 0.266561 0.674745\n",
      "Rect(3.1762577444314957, 2.5331224203109741, 4.5517882108688354, 3.349489688873291)\n",
      "Rect(203.28049564361572, 162.11983489990234, 291.31444549560547, 214.36734008789062)\n",
      "0.000685006 2 4 0.0881289 0.775894 0.266561 0.674745\n",
      "Rect(4.1762577444314957, 2.5331224203109741, 5.5517882108688354, 3.349489688873291)\n",
      "Rect(267.28049564361572, 162.11983489990234, 355.31444549560547, 214.36734008789062)\n",
      "0.000685006 2 5 0.0881289 0.775894 0.266561 0.674745\n",
      "Rect(5.1762577444314957, 2.5331224203109741, 6.5517882108688354, 3.349489688873291)\n",
      "Rect(331.28049564361572, 162.11983489990234, 419.31444549560547, 214.36734008789062)\n",
      "0.000685006 2 6 0.0881289 0.775894 0.266561 0.674745\n",
      "Rect(6.1762577444314957, 2.5331224203109741, 7.5517882108688354, 3.349489688873291)\n",
      "Rect(395.28049564361572, 162.11983489990234, 483.31444549560547, 214.36734008789062)\n",
      "0.000685006 2 7 0.0881289 0.775894 0.266561 0.674745\n",
      "Rect(7.1762577444314957, 2.5331224203109741, 8.5517882108688354, 3.349489688873291)\n",
      "Rect(459.28049564361572, 162.11983489990234, 547.31444549560547, 214.36734008789062)\n",
      "0.000685006 2 8 0.0881289 0.775894 0.266561 0.674745\n",
      "Rect(8.1762577444314957, 2.5331224203109741, 9.5517882108688354, 3.349489688873291)\n",
      "Rect(523.28049564361572, 162.11983489990234, 611.31444549560547, 214.36734008789062)\n",
      "0.000685006 2 9 0.0881289 0.775894 0.266561 0.674745\n",
      "Rect(9.1762577444314957, 2.5331224203109741, 10.551788210868835, 3.349489688873291)\n",
      "Rect(587.28049564361572, 162.11983489990234, 675.31444549560547, 214.36734008789062)\n",
      "0.000685006 2 10 0.0881289 0.775894 0.266561 0.674745\n",
      "Rect(10.176257744431496, 2.5331224203109741, 11.551788210868835, 3.349489688873291)\n",
      "Rect(651.28049564361572, 162.11983489990234, 739.31444549560547, 214.36734008789062)\n",
      "0.000685006 2 11 0.0881289 0.775894 0.266561 0.674745\n",
      "Rect(11.176257744431496, 2.5331224203109741, 12.551788210868835, 3.349489688873291)\n",
      "Rect(715.28049564361572, 162.11983489990234, 803.31444549560547, 214.36734008789062)\n",
      "0.000685006 2 12 0.0881289 0.775894 0.266561 0.674745\n",
      "Rect(12.176257744431496, 2.5331224203109741, 13.551788210868835, 3.349489688873291)\n",
      "Rect(779.28049564361572, 162.11983489990234, 867.31444549560547, 214.36734008789062)\n",
      "0.000685006 2 13 0.0881289 0.775894 0.266561 0.674745\n",
      "Rect(13.176257744431496, 2.5331224203109741, 14.551788210868835, 3.349489688873291)\n",
      "Rect(843.28049564361572, 162.11983489990234, 931.31444549560547, 214.36734008789062)\n",
      "2.21094e-10 2 14 0.123463 0.725237 0.295543 0.688856\n",
      "Rect(14.246926754713058, 2.5910868644714355, 15.450474262237549, 3.3777110576629639)\n",
      "Rect(911.80331230163574, 165.82955932617188, 988.83035278320312, 216.17350769042969)\n",
      "0.196719 3 0 0.137906 0.804726 0.307245 0.653519\n",
      "Rect(0.2758125364780426, 3.6144895553588867, 1.6094529628753662, 4.3070378303527832)\n",
      "Rect(17.652002334594727, 231.32733154296875, 103.00498962402344, 275.65042114257812)\n",
      "0.000685006 3 1 0.0881289 0.775894 0.266561 0.674745\n",
      "Rect(1.1762577444314957, 3.5331224203109741, 2.5517882108688354, 4.349489688873291)\n",
      "Rect(75.280495643615723, 226.11983489990234, 163.31444549560547, 278.36734008789062)\n",
      "0.000685006 3 2 0.0881289 0.775894 0.266561 0.674745\n",
      "Rect(2.1762577444314957, 3.5331224203109741, 3.5517882108688354, 4.349489688873291)\n",
      "Rect(139.28049564361572, 226.11983489990234, 227.31444549560547, 278.36734008789062)\n",
      "0.000685006 3 3 0.0881289 0.775894 0.266561 0.674745\n",
      "Rect(3.1762577444314957, 3.5331224203109741, 4.5517882108688354, 4.349489688873291)\n",
      "Rect(203.28049564361572, 226.11983489990234, 291.31444549560547, 278.36734008789062)\n",
      "0.000685006 3 4 0.0881289 0.775894 0.266561 0.674745\n",
      "Rect(4.1762577444314957, 3.5331224203109741, 5.5517882108688354, 4.349489688873291)\n",
      "Rect(267.28049564361572, 226.11983489990234, 355.31444549560547, 278.36734008789062)\n",
      "0.000685006 3 5 0.0881289 0.775894 0.266561 0.674745\n",
      "Rect(5.1762577444314957, 3.5331224203109741, 6.5517882108688354, 4.349489688873291)\n",
      "Rect(331.28049564361572, 226.11983489990234, 419.31444549560547, 278.36734008789062)\n",
      "0.000685006 3 6 0.0881289 0.775894 0.266561 0.674745\n",
      "Rect(6.1762577444314957, 3.5331224203109741, 7.5517882108688354, 4.349489688873291)\n",
      "Rect(395.28049564361572, 226.11983489990234, 483.31444549560547, 278.36734008789062)\n",
      "0.000685006 3 7 0.0881289 0.775894 0.266561 0.674745\n",
      "Rect(7.1762577444314957, 3.5331224203109741, 8.5517882108688354, 4.349489688873291)\n",
      "Rect(459.28049564361572, 226.11983489990234, 547.31444549560547, 278.36734008789062)\n",
      "0.000685006 3 8 0.0881289 0.775894 0.266561 0.674745\n",
      "Rect(8.1762577444314957, 3.5331224203109741, 9.5517882108688354, 4.349489688873291)\n",
      "Rect(523.28049564361572, 226.11983489990234, 611.31444549560547, 278.36734008789062)\n",
      "0.000685006 3 9 0.0881289 0.775894 0.266561 0.674745\n",
      "Rect(9.1762577444314957, 3.5331224203109741, 10.551788210868835, 4.349489688873291)\n",
      "Rect(587.28049564361572, 226.11983489990234, 675.31444549560547, 278.36734008789062)\n",
      "0.000685006 3 10 0.0881289 0.775894 0.266561 0.674745\n",
      "Rect(10.176257744431496, 3.5331224203109741, 11.551788210868835, 4.349489688873291)\n",
      "Rect(651.28049564361572, 226.11983489990234, 739.31444549560547, 278.36734008789062)\n",
      "0.000685006 3 11 0.0881289 0.775894 0.266561 0.674745\n",
      "Rect(11.176257744431496, 3.5331224203109741, 12.551788210868835, 4.349489688873291)\n",
      "Rect(715.28049564361572, 226.11983489990234, 803.31444549560547, 278.36734008789062)\n",
      "0.000685006 3 12 0.0881289 0.775894 0.266561 0.674745\n",
      "Rect(12.176257744431496, 3.5331224203109741, 13.551788210868835, 4.349489688873291)\n",
      "Rect(779.28049564361572, 226.11983489990234, 867.31444549560547, 278.36734008789062)\n",
      "0.000685006 3 13 0.0881289 0.775894 0.266561 0.674745\n",
      "Rect(13.176257744431496, 3.5331224203109741, 14.551788210868835, 4.349489688873291)\n",
      "Rect(843.28049564361572, 226.11983489990234, 931.31444549560547, 278.36734008789062)\n",
      "2.21094e-10 3 14 0.123463 0.725237 0.295543 0.688856\n",
      "Rect(14.246926754713058, 3.5910868644714355, 15.450474262237549, 4.3777110576629639)\n",
      "Rect(911.80331230163574, 229.82955932617188, 988.83035278320312, 280.17350769042969)\n",
      "0.196719 4 0 0.137906 0.804726 0.307245 0.653519\n",
      "Rect(0.2758125364780426, 4.6144895553588867, 1.6094529628753662, 5.3070378303527832)\n",
      "Rect(17.652002334594727, 295.32733154296875, 103.00498962402344, 339.65042114257812)\n",
      "0.000685006 4 1 0.0881289 0.775894 0.266561 0.674745\n",
      "Rect(1.1762577444314957, 4.5331224203109741, 2.5517882108688354, 5.349489688873291)\n",
      "Rect(75.280495643615723, 290.11983489990234, 163.31444549560547, 342.36734008789062)\n",
      "0.000685006 4 2 0.0881289 0.775894 0.266561 0.674745\n",
      "Rect(2.1762577444314957, 4.5331224203109741, 3.5517882108688354, 5.349489688873291)\n",
      "Rect(139.28049564361572, 290.11983489990234, 227.31444549560547, 342.36734008789062)\n",
      "0.000685006 4 3 0.0881289 0.775894 0.266561 0.674745\n",
      "Rect(3.1762577444314957, 4.5331224203109741, 4.5517882108688354, 5.349489688873291)\n",
      "Rect(203.28049564361572, 290.11983489990234, 291.31444549560547, 342.36734008789062)\n",
      "0.000685006 4 4 0.0881289 0.775894 0.266561 0.674745\n",
      "Rect(4.1762577444314957, 4.5331224203109741, 5.5517882108688354, 5.349489688873291)\n",
      "Rect(267.28049564361572, 290.11983489990234, 355.31444549560547, 342.36734008789062)\n",
      "0.000685006 4 5 0.0881289 0.775894 0.266561 0.674745\n",
      "Rect(5.1762577444314957, 4.5331224203109741, 6.5517882108688354, 5.349489688873291)\n",
      "Rect(331.28049564361572, 290.11983489990234, 419.31444549560547, 342.36734008789062)\n",
      "0.000685006 4 6 0.0881289 0.775894 0.266561 0.674745\n",
      "Rect(6.1762577444314957, 4.5331224203109741, 7.5517882108688354, 5.349489688873291)\n",
      "Rect(395.28049564361572, 290.11983489990234, 483.31444549560547, 342.36734008789062)\n",
      "0.000685006 4 7 0.0881289 0.775894 0.266561 0.674745\n",
      "Rect(7.1762577444314957, 4.5331224203109741, 8.5517882108688354, 5.349489688873291)\n",
      "Rect(459.28049564361572, 290.11983489990234, 547.31444549560547, 342.36734008789062)\n",
      "0.000685006 4 8 0.0881289 0.775894 0.266561 0.674745\n",
      "Rect(8.1762577444314957, 4.5331224203109741, 9.5517882108688354, 5.349489688873291)\n",
      "Rect(523.28049564361572, 290.11983489990234, 611.31444549560547, 342.36734008789062)\n",
      "0.000685006 4 9 0.0881289 0.775894 0.266561 0.674745\n",
      "Rect(9.1762577444314957, 4.5331224203109741, 10.551788210868835, 5.349489688873291)\n",
      "Rect(587.28049564361572, 290.11983489990234, 675.31444549560547, 342.36734008789062)\n",
      "0.000685006 4 10 0.0881289 0.775894 0.266561 0.674745\n",
      "Rect(10.176257744431496, 4.5331224203109741, 11.551788210868835, 5.349489688873291)\n",
      "Rect(651.28049564361572, 290.11983489990234, 739.31444549560547, 342.36734008789062)\n",
      "0.000685006 4 11 0.0881289 0.775894 0.266561 0.674745\n",
      "Rect(11.176257744431496, 4.5331224203109741, 12.551788210868835, 5.349489688873291)\n",
      "Rect(715.28049564361572, 290.11983489990234, 803.31444549560547, 342.36734008789062)\n",
      "0.000685006 4 12 0.0881289 0.775894 0.266561 0.674745\n",
      "Rect(12.176257744431496, 4.5331224203109741, 13.551788210868835, 5.349489688873291)\n",
      "Rect(779.28049564361572, 290.11983489990234, 867.31444549560547, 342.36734008789062)\n",
      "0.000685006 4 13 0.0881289 0.775894 0.266561 0.674745\n",
      "Rect(13.176257744431496, 4.5331224203109741, 14.551788210868835, 5.349489688873291)\n",
      "Rect(843.28049564361572, 290.11983489990234, 931.31444549560547, 342.36734008789062)\n",
      "2.21094e-10 4 14 0.123463 0.725237 0.295543 0.688856\n",
      "Rect(14.246926754713058, 4.5910868644714355, 15.450474262237549, 5.3777110576629639)\n",
      "Rect(911.80331230163574, 293.82955932617188, 988.83035278320312, 344.17350769042969)\n",
      "0.196719 5 0 0.137906 0.804726 0.307245 0.653519\n",
      "Rect(0.2758125364780426, 5.6144895553588867, 1.6094529628753662, 6.3070378303527832)\n",
      "Rect(17.652002334594727, 359.32733154296875, 103.00498962402344, 403.65042114257812)\n",
      "0.000685006 5 1 0.0881289 0.775894 0.266561 0.674745\n",
      "Rect(1.1762577444314957, 5.5331224203109741, 2.5517882108688354, 6.349489688873291)\n",
      "Rect(75.280495643615723, 354.11983489990234, 163.31444549560547, 406.36734008789062)\n",
      "0.000685006 5 2 0.0881289 0.775894 0.266561 0.674745\n",
      "Rect(2.1762577444314957, 5.5331224203109741, 3.5517882108688354, 6.349489688873291)\n",
      "Rect(139.28049564361572, 354.11983489990234, 227.31444549560547, 406.36734008789062)\n",
      "0.000685006 5 3 0.0881289 0.775894 0.266561 0.674745\n",
      "Rect(3.1762577444314957, 5.5331224203109741, 4.5517882108688354, 6.349489688873291)\n",
      "Rect(203.28049564361572, 354.11983489990234, 291.31444549560547, 406.36734008789062)\n",
      "0.000685006 5 4 0.0881289 0.775894 0.266561 0.674745\n",
      "Rect(4.1762577444314957, 5.5331224203109741, 5.5517882108688354, 6.349489688873291)\n",
      "Rect(267.28049564361572, 354.11983489990234, 355.31444549560547, 406.36734008789062)\n",
      "0.000685006 5 5 0.0881289 0.775894 0.266561 0.674745\n",
      "Rect(5.1762577444314957, 5.5331224203109741, 6.5517882108688354, 6.349489688873291)\n",
      "Rect(331.28049564361572, 354.11983489990234, 419.31444549560547, 406.36734008789062)\n",
      "0.000685006 5 6 0.0881289 0.775894 0.266561 0.674745\n",
      "Rect(6.1762577444314957, 5.5331224203109741, 7.5517882108688354, 6.349489688873291)\n",
      "Rect(395.28049564361572, 354.11983489990234, 483.31444549560547, 406.36734008789062)\n",
      "0.000685006 5 7 0.0881289 0.775894 0.266561 0.674745\n",
      "Rect(7.1762577444314957, 5.5331224203109741, 8.5517882108688354, 6.349489688873291)\n",
      "Rect(459.28049564361572, 354.11983489990234, 547.31444549560547, 406.36734008789062)\n",
      "0.000685006 5 8 0.0881289 0.775894 0.266561 0.674745\n",
      "Rect(8.1762577444314957, 5.5331224203109741, 9.5517882108688354, 6.349489688873291)\n",
      "Rect(523.28049564361572, 354.11983489990234, 611.31444549560547, 406.36734008789062)\n",
      "0.000685006 5 9 0.0881289 0.775894 0.266561 0.674745\n",
      "Rect(9.1762577444314957, 5.5331224203109741, 10.551788210868835, 6.349489688873291)\n",
      "Rect(587.28049564361572, 354.11983489990234, 675.31444549560547, 406.36734008789062)\n",
      "0.000685006 5 10 0.0881289 0.775894 0.266561 0.674745\n",
      "Rect(10.176257744431496, 5.5331224203109741, 11.551788210868835, 6.349489688873291)\n",
      "Rect(651.28049564361572, 354.11983489990234, 739.31444549560547, 406.36734008789062)\n",
      "0.000685006 5 11 0.0881289 0.775894 0.266561 0.674745\n",
      "Rect(11.176257744431496, 5.5331224203109741, 12.551788210868835, 6.349489688873291)\n",
      "Rect(715.28049564361572, 354.11983489990234, 803.31444549560547, 406.36734008789062)\n",
      "0.000685006 5 12 0.0881289 0.775894 0.266561 0.674745\n",
      "Rect(12.176257744431496, 5.5331224203109741, 13.551788210868835, 6.349489688873291)\n",
      "Rect(779.28049564361572, 354.11983489990234, 867.31444549560547, 406.36734008789062)\n",
      "0.000685006 5 13 0.0881289 0.775894 0.266561 0.674745\n",
      "Rect(13.176257744431496, 5.5331224203109741, 14.551788210868835, 6.349489688873291)\n",
      "Rect(843.28049564361572, 354.11983489990234, 931.31444549560547, 406.36734008789062)\n",
      "2.21094e-10 5 14 0.123463 0.725237 0.295543 0.688856\n",
      "Rect(14.246926754713058, 5.5910868644714355, 15.450474262237549, 6.3777110576629639)\n",
      "Rect(911.80331230163574, 357.82955932617188, 988.83035278320312, 408.17350769042969)\n",
      "0.196719 6 0 0.137906 0.804726 0.307245 0.653519\n",
      "Rect(0.2758125364780426, 6.6144895553588867, 1.6094529628753662, 7.3070378303527832)\n",
      "Rect(17.652002334594727, 423.32733154296875, 103.00498962402344, 467.65042114257812)\n",
      "0.000685006 6 1 0.0881289 0.775894 0.266561 0.674745\n",
      "Rect(1.1762577444314957, 6.5331224203109741, 2.5517882108688354, 7.349489688873291)\n",
      "Rect(75.280495643615723, 418.11983489990234, 163.31444549560547, 470.36734008789062)\n",
      "0.000685006 6 2 0.0881289 0.775894 0.266561 0.674745\n",
      "Rect(2.1762577444314957, 6.5331224203109741, 3.5517882108688354, 7.349489688873291)\n",
      "Rect(139.28049564361572, 418.11983489990234, 227.31444549560547, 470.36734008789062)\n",
      "0.000685006 6 3 0.0881289 0.775894 0.266561 0.674745\n",
      "Rect(3.1762577444314957, 6.5331224203109741, 4.5517882108688354, 7.349489688873291)\n",
      "Rect(203.28049564361572, 418.11983489990234, 291.31444549560547, 470.36734008789062)\n"
     ]
    },
    {
     "name": "stdout",
     "output_type": "stream",
     "text": [
      "0.000685006 6 4 0.0881289 0.775894 0.266561 0.674745\n",
      "Rect(4.1762577444314957, 6.5331224203109741, 5.5517882108688354, 7.349489688873291)\n",
      "Rect(267.28049564361572, 418.11983489990234, 355.31444549560547, 470.36734008789062)\n",
      "0.000685006 6 5 0.0881289 0.775894 0.266561 0.674745\n",
      "Rect(5.1762577444314957, 6.5331224203109741, 6.5517882108688354, 7.349489688873291)\n",
      "Rect(331.28049564361572, 418.11983489990234, 419.31444549560547, 470.36734008789062)\n",
      "0.000685006 6 6 0.0881289 0.775894 0.266561 0.674745\n",
      "Rect(6.1762577444314957, 6.5331224203109741, 7.5517882108688354, 7.349489688873291)\n",
      "Rect(395.28049564361572, 418.11983489990234, 483.31444549560547, 470.36734008789062)\n",
      "0.000685006 6 7 0.0881289 0.775894 0.266561 0.674745\n",
      "Rect(7.1762577444314957, 6.5331224203109741, 8.5517882108688354, 7.349489688873291)\n",
      "Rect(459.28049564361572, 418.11983489990234, 547.31444549560547, 470.36734008789062)\n",
      "0.000685006 6 8 0.0881289 0.775894 0.266561 0.674745\n",
      "Rect(8.1762577444314957, 6.5331224203109741, 9.5517882108688354, 7.349489688873291)\n",
      "Rect(523.28049564361572, 418.11983489990234, 611.31444549560547, 470.36734008789062)\n",
      "0.000685006 6 9 0.0881289 0.775894 0.266561 0.674745\n",
      "Rect(9.1762577444314957, 6.5331224203109741, 10.551788210868835, 7.349489688873291)\n",
      "Rect(587.28049564361572, 418.11983489990234, 675.31444549560547, 470.36734008789062)\n",
      "0.000685006 6 10 0.0881289 0.775894 0.266561 0.674745\n",
      "Rect(10.176257744431496, 6.5331224203109741, 11.551788210868835, 7.349489688873291)\n",
      "Rect(651.28049564361572, 418.11983489990234, 739.31444549560547, 470.36734008789062)\n",
      "0.000685006 6 11 0.0881289 0.775894 0.266561 0.674745\n",
      "Rect(11.176257744431496, 6.5331224203109741, 12.551788210868835, 7.349489688873291)\n",
      "Rect(715.28049564361572, 418.11983489990234, 803.31444549560547, 470.36734008789062)\n",
      "0.000685006 6 12 0.0881289 0.775894 0.266561 0.674745\n",
      "Rect(12.176257744431496, 6.5331224203109741, 13.551788210868835, 7.349489688873291)\n",
      "Rect(779.28049564361572, 418.11983489990234, 867.31444549560547, 470.36734008789062)\n",
      "0.000685006 6 13 0.0881289 0.775894 0.266561 0.674745\n",
      "Rect(13.176257744431496, 6.5331224203109741, 14.551788210868835, 7.349489688873291)\n",
      "Rect(843.28049564361572, 418.11983489990234, 931.31444549560547, 470.36734008789062)\n",
      "2.21094e-10 6 14 0.123463 0.725237 0.295543 0.688856\n",
      "Rect(14.246926754713058, 6.5910868644714355, 15.450474262237549, 7.3777110576629639)\n",
      "Rect(911.80331230163574, 421.82955932617188, 988.83035278320312, 472.17350769042969)\n",
      "0.196719 7 0 0.137906 0.804726 0.307245 0.653519\n",
      "Rect(0.2758125364780426, 7.6144895553588867, 1.6094529628753662, 8.3070378303527832)\n",
      "Rect(17.652002334594727, 487.32733154296875, 103.00498962402344, 531.65042114257812)\n",
      "0.000685006 7 1 0.0881289 0.775894 0.266561 0.674745\n",
      "Rect(1.1762577444314957, 7.5331224203109741, 2.5517882108688354, 8.349489688873291)\n",
      "Rect(75.280495643615723, 482.11983489990234, 163.31444549560547, 534.36734008789062)\n",
      "0.000685006 7 2 0.0881289 0.775894 0.266561 0.674745\n",
      "Rect(2.1762577444314957, 7.5331224203109741, 3.5517882108688354, 8.349489688873291)\n",
      "Rect(139.28049564361572, 482.11983489990234, 227.31444549560547, 534.36734008789062)\n",
      "0.000685006 7 3 0.0881289 0.775894 0.266561 0.674745\n",
      "Rect(3.1762577444314957, 7.5331224203109741, 4.5517882108688354, 8.349489688873291)\n",
      "Rect(203.28049564361572, 482.11983489990234, 291.31444549560547, 534.36734008789062)\n",
      "0.000685006 7 4 0.0881289 0.775894 0.266561 0.674745\n",
      "Rect(4.1762577444314957, 7.5331224203109741, 5.5517882108688354, 8.349489688873291)\n",
      "Rect(267.28049564361572, 482.11983489990234, 355.31444549560547, 534.36734008789062)\n",
      "0.000685006 7 5 0.0881289 0.775894 0.266561 0.674745\n",
      "Rect(5.1762577444314957, 7.5331224203109741, 6.5517882108688354, 8.349489688873291)\n",
      "Rect(331.28049564361572, 482.11983489990234, 419.31444549560547, 534.36734008789062)\n",
      "0.000685006 7 6 0.0881289 0.775894 0.266561 0.674745\n",
      "Rect(6.1762577444314957, 7.5331224203109741, 7.5517882108688354, 8.349489688873291)\n",
      "Rect(395.28049564361572, 482.11983489990234, 483.31444549560547, 534.36734008789062)\n",
      "0.000685006 7 7 0.0881289 0.775894 0.266561 0.674745\n",
      "Rect(7.1762577444314957, 7.5331224203109741, 8.5517882108688354, 8.349489688873291)\n",
      "Rect(459.28049564361572, 482.11983489990234, 547.31444549560547, 534.36734008789062)\n",
      "0.000685006 7 8 0.0881289 0.775894 0.266561 0.674745\n",
      "Rect(8.1762577444314957, 7.5331224203109741, 9.5517882108688354, 8.349489688873291)\n",
      "Rect(523.28049564361572, 482.11983489990234, 611.31444549560547, 534.36734008789062)\n",
      "0.000685006 7 9 0.0881289 0.775894 0.266561 0.674745\n",
      "Rect(9.1762577444314957, 7.5331224203109741, 10.551788210868835, 8.349489688873291)\n",
      "Rect(587.28049564361572, 482.11983489990234, 675.31444549560547, 534.36734008789062)\n",
      "0.000685006 7 10 0.0881289 0.775894 0.266561 0.674745\n",
      "Rect(10.176257744431496, 7.5331224203109741, 11.551788210868835, 8.349489688873291)\n",
      "Rect(651.28049564361572, 482.11983489990234, 739.31444549560547, 534.36734008789062)\n",
      "0.000685006 7 11 0.0881289 0.775894 0.266561 0.674745\n",
      "Rect(11.176257744431496, 7.5331224203109741, 12.551788210868835, 8.349489688873291)\n",
      "Rect(715.28049564361572, 482.11983489990234, 803.31444549560547, 534.36734008789062)\n",
      "0.000685006 7 12 0.0881289 0.775894 0.266561 0.674745\n",
      "Rect(12.176257744431496, 7.5331224203109741, 13.551788210868835, 8.349489688873291)\n",
      "Rect(779.28049564361572, 482.11983489990234, 867.31444549560547, 534.36734008789062)\n",
      "0.000685006 7 13 0.0881289 0.775894 0.266561 0.674745\n",
      "Rect(13.176257744431496, 7.5331224203109741, 14.551788210868835, 8.349489688873291)\n",
      "Rect(843.28049564361572, 482.11983489990234, 931.31444549560547, 534.36734008789062)\n",
      "2.21094e-10 7 14 0.123463 0.725237 0.295543 0.688856\n",
      "Rect(14.246926754713058, 7.5910868644714355, 15.450474262237549, 8.3777110576629639)\n",
      "Rect(911.80331230163574, 485.82955932617188, 988.83035278320312, 536.17350769042969)\n",
      "0.196719 8 0 0.137906 0.804726 0.307245 0.653519\n",
      "Rect(0.2758125364780426, 8.6144895553588867, 1.6094529628753662, 9.3070378303527832)\n",
      "Rect(17.652002334594727, 551.32733154296875, 103.00498962402344, 595.65042114257812)\n",
      "0.000685006 8 1 0.0881289 0.775894 0.266561 0.674745\n",
      "Rect(1.1762577444314957, 8.5331224203109741, 2.5517882108688354, 9.349489688873291)\n",
      "Rect(75.280495643615723, 546.11983489990234, 163.31444549560547, 598.36734008789062)\n",
      "0.000685006 8 2 0.0881289 0.775894 0.266561 0.674745\n",
      "Rect(2.1762577444314957, 8.5331224203109741, 3.5517882108688354, 9.349489688873291)\n",
      "Rect(139.28049564361572, 546.11983489990234, 227.31444549560547, 598.36734008789062)\n",
      "0.000685006 8 3 0.0881289 0.775894 0.266561 0.674745\n",
      "Rect(3.1762577444314957, 8.5331224203109741, 4.5517882108688354, 9.349489688873291)\n",
      "Rect(203.28049564361572, 546.11983489990234, 291.31444549560547, 598.36734008789062)\n",
      "0.000685006 8 4 0.0881289 0.775894 0.266561 0.674745\n",
      "Rect(4.1762577444314957, 8.5331224203109741, 5.5517882108688354, 9.349489688873291)\n",
      "Rect(267.28049564361572, 546.11983489990234, 355.31444549560547, 598.36734008789062)\n",
      "0.000685006 8 5 0.0881289 0.775894 0.266561 0.674745\n",
      "Rect(5.1762577444314957, 8.5331224203109741, 6.5517882108688354, 9.349489688873291)\n",
      "Rect(331.28049564361572, 546.11983489990234, 419.31444549560547, 598.36734008789062)\n",
      "0.000685006 8 6 0.0881289 0.775894 0.266561 0.674745\n",
      "Rect(6.1762577444314957, 8.5331224203109741, 7.5517882108688354, 9.349489688873291)\n",
      "Rect(395.28049564361572, 546.11983489990234, 483.31444549560547, 598.36734008789062)\n",
      "0.000685006 8 7 0.0881289 0.775894 0.266561 0.674745\n",
      "Rect(7.1762577444314957, 8.5331224203109741, 8.5517882108688354, 9.349489688873291)\n",
      "Rect(459.28049564361572, 546.11983489990234, 547.31444549560547, 598.36734008789062)\n",
      "0.000685006 8 8 0.0881289 0.775894 0.266561 0.674745\n",
      "Rect(8.1762577444314957, 8.5331224203109741, 9.5517882108688354, 9.349489688873291)\n",
      "Rect(523.28049564361572, 546.11983489990234, 611.31444549560547, 598.36734008789062)\n",
      "0.000685006 8 9 0.0881289 0.775894 0.266561 0.674745\n",
      "Rect(9.1762577444314957, 8.5331224203109741, 10.551788210868835, 9.349489688873291)\n",
      "Rect(587.28049564361572, 546.11983489990234, 675.31444549560547, 598.36734008789062)\n",
      "0.000685006 8 10 0.0881289 0.775894 0.266561 0.674745\n",
      "Rect(10.176257744431496, 8.5331224203109741, 11.551788210868835, 9.349489688873291)\n",
      "Rect(651.28049564361572, 546.11983489990234, 739.31444549560547, 598.36734008789062)\n",
      "0.000685006 8 11 0.0881289 0.775894 0.266561 0.674745\n",
      "Rect(11.176257744431496, 8.5331224203109741, 12.551788210868835, 9.349489688873291)\n",
      "Rect(715.28049564361572, 546.11983489990234, 803.31444549560547, 598.36734008789062)\n",
      "0.000685006 8 12 0.0881289 0.775894 0.266561 0.674745\n",
      "Rect(12.176257744431496, 8.5331224203109741, 13.551788210868835, 9.349489688873291)\n",
      "Rect(779.28049564361572, 546.11983489990234, 867.31444549560547, 598.36734008789062)\n",
      "0.000685006 8 13 0.0881289 0.775894 0.266561 0.674745\n",
      "Rect(13.176257744431496, 8.5331224203109741, 14.551788210868835, 9.349489688873291)\n",
      "Rect(843.28049564361572, 546.11983489990234, 931.31444549560547, 598.36734008789062)\n",
      "2.21094e-10 8 14 0.123463 0.725237 0.295543 0.688856\n",
      "Rect(14.246926754713058, 8.5910868644714355, 15.450474262237549, 9.3777110576629639)\n",
      "Rect(911.80331230163574, 549.82955932617188, 988.83035278320312, 600.17350769042969)\n",
      "0.196719 9 0 0.137906 0.804726 0.307245 0.653519\n",
      "Rect(0.2758125364780426, 9.6144895553588867, 1.6094529628753662, 10.307037830352783)\n",
      "Rect(17.652002334594727, 615.32733154296875, 103.00498962402344, 659.65042114257812)\n",
      "0.000685006 9 1 0.0881289 0.775894 0.266561 0.674745\n",
      "Rect(1.1762577444314957, 9.5331224203109741, 2.5517882108688354, 10.349489688873291)\n",
      "Rect(75.280495643615723, 610.11983489990234, 163.31444549560547, 662.36734008789062)\n",
      "0.000685006 9 2 0.0881289 0.775894 0.266561 0.674745\n",
      "Rect(2.1762577444314957, 9.5331224203109741, 3.5517882108688354, 10.349489688873291)\n",
      "Rect(139.28049564361572, 610.11983489990234, 227.31444549560547, 662.36734008789062)\n",
      "0.000685006 9 3 0.0881289 0.775894 0.266561 0.674745\n",
      "Rect(3.1762577444314957, 9.5331224203109741, 4.5517882108688354, 10.349489688873291)\n",
      "Rect(203.28049564361572, 610.11983489990234, 291.31444549560547, 662.36734008789062)\n",
      "0.000685006 9 4 0.0881289 0.775894 0.266561 0.674745\n",
      "Rect(4.1762577444314957, 9.5331224203109741, 5.5517882108688354, 10.349489688873291)\n",
      "Rect(267.28049564361572, 610.11983489990234, 355.31444549560547, 662.36734008789062)\n",
      "0.000685006 9 5 0.0881289 0.775894 0.266561 0.674745\n",
      "Rect(5.1762577444314957, 9.5331224203109741, 6.5517882108688354, 10.349489688873291)\n",
      "Rect(331.28049564361572, 610.11983489990234, 419.31444549560547, 662.36734008789062)\n",
      "0.000685006 9 6 0.0881289 0.775894 0.266561 0.674745\n",
      "Rect(6.1762577444314957, 9.5331224203109741, 7.5517882108688354, 10.349489688873291)\n",
      "Rect(395.28049564361572, 610.11983489990234, 483.31444549560547, 662.36734008789062)\n",
      "0.000685006 9 7 0.0881289 0.775894 0.266561 0.674745\n",
      "Rect(7.1762577444314957, 9.5331224203109741, 8.5517882108688354, 10.349489688873291)\n",
      "Rect(459.28049564361572, 610.11983489990234, 547.31444549560547, 662.36734008789062)\n",
      "0.000685006 9 8 0.0881289 0.775894 0.266561 0.674745\n",
      "Rect(8.1762577444314957, 9.5331224203109741, 9.5517882108688354, 10.349489688873291)\n",
      "Rect(523.28049564361572, 610.11983489990234, 611.31444549560547, 662.36734008789062)\n",
      "0.000685006 9 9 0.0881289 0.775894 0.266561 0.674745\n",
      "Rect(9.1762577444314957, 9.5331224203109741, 10.551788210868835, 10.349489688873291)\n",
      "Rect(587.28049564361572, 610.11983489990234, 675.31444549560547, 662.36734008789062)\n",
      "0.000685006 9 10 0.0881289 0.775894 0.266561 0.674745\n",
      "Rect(10.176257744431496, 9.5331224203109741, 11.551788210868835, 10.349489688873291)\n",
      "Rect(651.28049564361572, 610.11983489990234, 739.31444549560547, 662.36734008789062)\n",
      "0.000685006 9 11 0.0881289 0.775894 0.266561 0.674745\n",
      "Rect(11.176257744431496, 9.5331224203109741, 12.551788210868835, 10.349489688873291)\n",
      "Rect(715.28049564361572, 610.11983489990234, 803.31444549560547, 662.36734008789062)\n",
      "0.000685006 9 12 0.0881289 0.775894 0.266561 0.674745\n",
      "Rect(12.176257744431496, 9.5331224203109741, 13.551788210868835, 10.349489688873291)\n",
      "Rect(779.28049564361572, 610.11983489990234, 867.31444549560547, 662.36734008789062)\n",
      "0.000685006 9 13 0.0881289 0.775894 0.266561 0.674745\n",
      "Rect(13.176257744431496, 9.5331224203109741, 14.551788210868835, 10.349489688873291)\n",
      "Rect(843.28049564361572, 610.11983489990234, 931.31444549560547, 662.36734008789062)\n",
      "2.21094e-10 9 14 0.123463 0.725237 0.295543 0.688856\n",
      "Rect(14.246926754713058, 9.5910868644714355, 15.450474262237549, 10.377711057662964)\n",
      "Rect(911.80331230163574, 613.82955932617188, 988.83035278320312, 664.17350769042969)\n",
      "0.196719 10 0 0.137906 0.804726 0.307245 0.653519\n",
      "Rect(0.2758125364780426, 10.614489555358887, 1.6094529628753662, 11.307037830352783)\n",
      "Rect(17.652002334594727, 679.32733154296875, 103.00498962402344, 723.65042114257812)\n",
      "0.000685006 10 1 0.0881289 0.775894 0.266561 0.674745\n",
      "Rect(1.1762577444314957, 10.533122420310974, 2.5517882108688354, 11.349489688873291)\n",
      "Rect(75.280495643615723, 674.11983489990234, 163.31444549560547, 726.36734008789062)\n",
      "0.000685006 10 2 0.0881289 0.775894 0.266561 0.674745\n",
      "Rect(2.1762577444314957, 10.533122420310974, 3.5517882108688354, 11.349489688873291)\n",
      "Rect(139.28049564361572, 674.11983489990234, 227.31444549560547, 726.36734008789062)\n",
      "0.000685006 10 3 0.0881289 0.775894 0.266561 0.674745\n",
      "Rect(3.1762577444314957, 10.533122420310974, 4.5517882108688354, 11.349489688873291)\n",
      "Rect(203.28049564361572, 674.11983489990234, 291.31444549560547, 726.36734008789062)\n",
      "0.000685006 10 4 0.0881289 0.775894 0.266561 0.674745\n",
      "Rect(4.1762577444314957, 10.533122420310974, 5.5517882108688354, 11.349489688873291)\n",
      "Rect(267.28049564361572, 674.11983489990234, 355.31444549560547, 726.36734008789062)\n",
      "0.000685006 10 5 0.0881289 0.775894 0.266561 0.674745\n",
      "Rect(5.1762577444314957, 10.533122420310974, 6.5517882108688354, 11.349489688873291)\n",
      "Rect(331.28049564361572, 674.11983489990234, 419.31444549560547, 726.36734008789062)\n",
      "0.000685006 10 6 0.0881289 0.775894 0.266561 0.674745\n",
      "Rect(6.1762577444314957, 10.533122420310974, 7.5517882108688354, 11.349489688873291)\n",
      "Rect(395.28049564361572, 674.11983489990234, 483.31444549560547, 726.36734008789062)\n",
      "0.000685006 10 7 0.0881289 0.775894 0.266561 0.674745\n",
      "Rect(7.1762577444314957, 10.533122420310974, 8.5517882108688354, 11.349489688873291)\n",
      "Rect(459.28049564361572, 674.11983489990234, 547.31444549560547, 726.36734008789062)\n",
      "0.000685006 10 8 0.0881289 0.775894 0.266561 0.674745\n",
      "Rect(8.1762577444314957, 10.533122420310974, 9.5517882108688354, 11.349489688873291)\n",
      "Rect(523.28049564361572, 674.11983489990234, 611.31444549560547, 726.36734008789062)\n",
      "0.000685006 10 9 0.0881289 0.775894 0.266561 0.674745\n",
      "Rect(9.1762577444314957, 10.533122420310974, 10.551788210868835, 11.349489688873291)\n",
      "Rect(587.28049564361572, 674.11983489990234, 675.31444549560547, 726.36734008789062)\n",
      "0.000685006 10 10 0.0881289 0.775894 0.266561 0.674745\n",
      "Rect(10.176257744431496, 10.533122420310974, 11.551788210868835, 11.349489688873291)\n",
      "Rect(651.28049564361572, 674.11983489990234, 739.31444549560547, 726.36734008789062)\n",
      "0.000685006 10 11 0.0881289 0.775894 0.266561 0.674745\n",
      "Rect(11.176257744431496, 10.533122420310974, 12.551788210868835, 11.349489688873291)\n",
      "Rect(715.28049564361572, 674.11983489990234, 803.31444549560547, 726.36734008789062)\n",
      "0.000685006 10 12 0.0881289 0.775894 0.266561 0.674745\n",
      "Rect(12.176257744431496, 10.533122420310974, 13.551788210868835, 11.349489688873291)\n",
      "Rect(779.28049564361572, 674.11983489990234, 867.31444549560547, 726.36734008789062)\n",
      "0.000685006 10 13 0.0881289 0.775894 0.266561 0.674745\n",
      "Rect(13.176257744431496, 10.533122420310974, 14.551788210868835, 11.349489688873291)\n",
      "Rect(843.28049564361572, 674.11983489990234, 931.31444549560547, 726.36734008789062)\n",
      "2.21094e-10 10 14 0.123463 0.725237 0.295543 0.688856\n",
      "Rect(14.246926754713058, 10.591086864471436, 15.450474262237549, 11.377711057662964)\n",
      "Rect(911.80331230163574, 677.82955932617188, 988.83035278320312, 728.17350769042969)\n",
      "0.196719 11 0 0.137906 0.804726 0.307245 0.653519\n",
      "Rect(0.2758125364780426, 11.614489555358887, 1.6094529628753662, 12.307037830352783)\n",
      "Rect(17.652002334594727, 743.32733154296875, 103.00498962402344, 787.65042114257812)\n",
      "0.000685006 11 1 0.0881289 0.775894 0.266561 0.674745\n",
      "Rect(1.1762577444314957, 11.533122420310974, 2.5517882108688354, 12.349489688873291)\n",
      "Rect(75.280495643615723, 738.11983489990234, 163.31444549560547, 790.36734008789062)\n",
      "0.000685006 11 2 0.0881289 0.775894 0.266561 0.674745\n",
      "Rect(2.1762577444314957, 11.533122420310974, 3.5517882108688354, 12.349489688873291)\n",
      "Rect(139.28049564361572, 738.11983489990234, 227.31444549560547, 790.36734008789062)\n",
      "0.000685006 11 3 0.0881289 0.775894 0.266561 0.674745\n",
      "Rect(3.1762577444314957, 11.533122420310974, 4.5517882108688354, 12.349489688873291)\n",
      "Rect(203.28049564361572, 738.11983489990234, 291.31444549560547, 790.36734008789062)\n",
      "0.000685006 11 4 0.0881289 0.775894 0.266561 0.674745\n",
      "Rect(4.1762577444314957, 11.533122420310974, 5.5517882108688354, 12.349489688873291)\n",
      "Rect(267.28049564361572, 738.11983489990234, 355.31444549560547, 790.36734008789062)\n",
      "0.000685006 11 5 0.0881289 0.775894 0.266561 0.674745\n",
      "Rect(5.1762577444314957, 11.533122420310974, 6.5517882108688354, 12.349489688873291)\n",
      "Rect(331.28049564361572, 738.11983489990234, 419.31444549560547, 790.36734008789062)\n",
      "0.000685006 11 6 0.0881289 0.775894 0.266561 0.674745\n",
      "Rect(6.1762577444314957, 11.533122420310974, 7.5517882108688354, 12.349489688873291)\n",
      "Rect(395.28049564361572, 738.11983489990234, 483.31444549560547, 790.36734008789062)\n",
      "0.000685006 11 7 0.0881289 0.775894 0.266561 0.674745\n",
      "Rect(7.1762577444314957, 11.533122420310974, 8.5517882108688354, 12.349489688873291)\n",
      "Rect(459.28049564361572, 738.11983489990234, 547.31444549560547, 790.36734008789062)\n",
      "0.000685006 11 8 0.0881289 0.775894 0.266561 0.674745\n",
      "Rect(8.1762577444314957, 11.533122420310974, 9.5517882108688354, 12.349489688873291)\n",
      "Rect(523.28049564361572, 738.11983489990234, 611.31444549560547, 790.36734008789062)\n",
      "0.000685006 11 9 0.0881289 0.775894 0.266561 0.674745\n",
      "Rect(9.1762577444314957, 11.533122420310974, 10.551788210868835, 12.349489688873291)\n",
      "Rect(587.28049564361572, 738.11983489990234, 675.31444549560547, 790.36734008789062)\n",
      "0.000685006 11 10 0.0881289 0.775894 0.266561 0.674745\n",
      "Rect(10.176257744431496, 11.533122420310974, 11.551788210868835, 12.349489688873291)\n",
      "Rect(651.28049564361572, 738.11983489990234, 739.31444549560547, 790.36734008789062)\n",
      "0.000685006 11 11 0.0881289 0.775894 0.266561 0.674745\n",
      "Rect(11.176257744431496, 11.533122420310974, 12.551788210868835, 12.349489688873291)\n",
      "Rect(715.28049564361572, 738.11983489990234, 803.31444549560547, 790.36734008789062)\n",
      "0.000685006 11 12 0.0881289 0.775894 0.266561 0.674745\n",
      "Rect(12.176257744431496, 11.533122420310974, 13.551788210868835, 12.349489688873291)\n",
      "Rect(779.28049564361572, 738.11983489990234, 867.31444549560547, 790.36734008789062)\n",
      "0.000685006 11 13 0.0881289 0.775894 0.266561 0.674745\n",
      "Rect(13.176257744431496, 11.533122420310974, 14.551788210868835, 12.349489688873291)\n",
      "Rect(843.28049564361572, 738.11983489990234, 931.31444549560547, 790.36734008789062)\n",
      "2.21094e-10 11 14 0.123463 0.725237 0.295543 0.688856\n",
      "Rect(14.246926754713058, 11.591086864471436, 15.450474262237549, 12.377711057662964)\n",
      "Rect(911.80331230163574, 741.82955932617188, 988.83035278320312, 792.17350769042969)\n",
      "0.196719 12 0 0.137906 0.804726 0.307245 0.653519\n",
      "Rect(0.2758125364780426, 12.614489555358887, 1.6094529628753662, 13.307037830352783)\n",
      "Rect(17.652002334594727, 807.32733154296875, 103.00498962402344, 851.65042114257812)\n"
     ]
    },
    {
     "name": "stdout",
     "output_type": "stream",
     "text": [
      "0.000685006 12 1 0.0881289 0.775894 0.266561 0.674745\n",
      "Rect(1.1762577444314957, 12.533122420310974, 2.5517882108688354, 13.349489688873291)\n",
      "Rect(75.280495643615723, 802.11983489990234, 163.31444549560547, 854.36734008789062)\n",
      "0.000685006 12 2 0.0881289 0.775894 0.266561 0.674745\n",
      "Rect(2.1762577444314957, 12.533122420310974, 3.5517882108688354, 13.349489688873291)\n",
      "Rect(139.28049564361572, 802.11983489990234, 227.31444549560547, 854.36734008789062)\n",
      "0.000685006 12 3 0.0881289 0.775894 0.266561 0.674745\n",
      "Rect(3.1762577444314957, 12.533122420310974, 4.5517882108688354, 13.349489688873291)\n",
      "Rect(203.28049564361572, 802.11983489990234, 291.31444549560547, 854.36734008789062)\n",
      "0.000685006 12 4 0.0881289 0.775894 0.266561 0.674745\n",
      "Rect(4.1762577444314957, 12.533122420310974, 5.5517882108688354, 13.349489688873291)\n",
      "Rect(267.28049564361572, 802.11983489990234, 355.31444549560547, 854.36734008789062)\n",
      "0.000685006 12 5 0.0881289 0.775894 0.266561 0.674745\n",
      "Rect(5.1762577444314957, 12.533122420310974, 6.5517882108688354, 13.349489688873291)\n",
      "Rect(331.28049564361572, 802.11983489990234, 419.31444549560547, 854.36734008789062)\n",
      "0.000685006 12 6 0.0881289 0.775894 0.266561 0.674745\n",
      "Rect(6.1762577444314957, 12.533122420310974, 7.5517882108688354, 13.349489688873291)\n",
      "Rect(395.28049564361572, 802.11983489990234, 483.31444549560547, 854.36734008789062)\n",
      "0.000685006 12 7 0.0881289 0.775894 0.266561 0.674745\n",
      "Rect(7.1762577444314957, 12.533122420310974, 8.5517882108688354, 13.349489688873291)\n",
      "Rect(459.28049564361572, 802.11983489990234, 547.31444549560547, 854.36734008789062)\n",
      "0.000685006 12 8 0.0881289 0.775894 0.266561 0.674745\n",
      "Rect(8.1762577444314957, 12.533122420310974, 9.5517882108688354, 13.349489688873291)\n",
      "Rect(523.28049564361572, 802.11983489990234, 611.31444549560547, 854.36734008789062)\n",
      "0.000685006 12 9 0.0881289 0.775894 0.266561 0.674745\n",
      "Rect(9.1762577444314957, 12.533122420310974, 10.551788210868835, 13.349489688873291)\n",
      "Rect(587.28049564361572, 802.11983489990234, 675.31444549560547, 854.36734008789062)\n",
      "0.000685006 12 10 0.0881289 0.775894 0.266561 0.674745\n",
      "Rect(10.176257744431496, 12.533122420310974, 11.551788210868835, 13.349489688873291)\n",
      "Rect(651.28049564361572, 802.11983489990234, 739.31444549560547, 854.36734008789062)\n",
      "0.000685006 12 11 0.0881289 0.775894 0.266561 0.674745\n",
      "Rect(11.176257744431496, 12.533122420310974, 12.551788210868835, 13.349489688873291)\n",
      "Rect(715.28049564361572, 802.11983489990234, 803.31444549560547, 854.36734008789062)\n",
      "0.000685006 12 12 0.0881289 0.775894 0.266561 0.674745\n",
      "Rect(12.176257744431496, 12.533122420310974, 13.551788210868835, 13.349489688873291)\n",
      "Rect(779.28049564361572, 802.11983489990234, 867.31444549560547, 854.36734008789062)\n",
      "0.000685006 12 13 0.0881289 0.775894 0.266561 0.674745\n",
      "Rect(13.176257744431496, 12.533122420310974, 14.551788210868835, 13.349489688873291)\n",
      "Rect(843.28049564361572, 802.11983489990234, 931.31444549560547, 854.36734008789062)\n",
      "2.21094e-10 12 14 0.123463 0.725237 0.295543 0.688856\n",
      "Rect(14.246926754713058, 12.591086864471436, 15.450474262237549, 13.377711057662964)\n",
      "Rect(911.80331230163574, 805.82955932617188, 988.83035278320312, 856.17350769042969)\n",
      "Rect(0.0, nan, nan, 15.0)\n",
      "Rect(0.0, nan, nan, 960.0)\n",
      "Rect(1.0, nan, nan, 15.0)\n",
      "Rect(64.0, nan, nan, 960.0)\n",
      "Rect(2.0, nan, nan, 15.0)\n",
      "Rect(128.0, nan, nan, 960.0)\n",
      "Rect(3.0, 14.999980568885803, nan, 14.999980688095093)\n",
      "Rect(192.0, 959.99875640869141, nan, 959.99876403808594)\n",
      "Rect(4.0, 14.994930624961853, nan, 14.994930624961853)\n",
      "Rect(256.0, 959.67555999755859, nan, 959.67555999755859)\n",
      "Rect(5.0, 14.634066700935364, nan, 14.634066700935364)\n",
      "Rect(320.0, 936.58026885986328, nan, 936.58026885986328)\n",
      "Rect(6.0, 13.280413031578064, nan, 13.280413150787354)\n",
      "Rect(384.0, 849.94643402099609, nan, 849.94644165039062)\n",
      "Rect(7.0, 13.290906220674515, nan, 13.290906190872192)\n",
      "Rect(448.0, 850.61799812316895, nan, 850.61799621582031)\n",
      "Rect(8.0, 14.838987112045288, nan, 14.838987112045288)\n",
      "Rect(512.0, 949.69517517089844, nan, 949.69517517089844)\n",
      "Rect(9.0, 14.998405456542969, nan, 14.998405337333679)\n",
      "Rect(576.0, 959.89794921875, nan, 959.89794158935547)\n",
      "Rect(10.0, 14.999718308448792, nan, 14.999718308448792)\n",
      "Rect(640.0, 959.98197174072266, nan, 959.98197174072266)\n",
      "Rect(11.0, 14.999640703201294, nan, 14.999640703201294)\n",
      "Rect(704.0, 959.97700500488281, nan, 959.97700500488281)\n",
      "Rect(12.0, 14.999503970146179, nan, 14.999504089355469)\n",
      "Rect(768.0, 959.96825408935547, nan, 959.96826171875)\n",
      "Rect(13.0, 14.893462538719177, 13.0, 14.893462419509888)\n",
      "Rect(832.0, 953.18160247802734, 832.0, 953.18159484863281)\n",
      "Rect(14.0, 13.00000012803126, 14.0, 13.000000238418579)\n",
      "Rect(896.0, 832.00000819400066, 896.0, 832.00001525878906)\n",
      "Rect(0.0, 15.999999403953552, nan, 16.0)\n",
      "Rect(0.0, 1023.9999618530273, nan, 1024.0)\n",
      "Rect(1.0, 14.0, nan, 14.0)\n",
      "Rect(64.0, 896.0, nan, 896.0)\n",
      "Rect(2.0, 14.0, nan, 14.0)\n",
      "Rect(128.0, 896.0, nan, 896.0)\n",
      "Rect(3.0, 14.0, nan, 14.0)\n",
      "Rect(192.0, 896.0, nan, 896.0)\n",
      "Rect(4.0, 14.000000000000011, nan, 14.0)\n",
      "Rect(256.0, 896.00000000000068, nan, 896.0)\n",
      "Rect(5.0, 14.000000000000618, nan, 14.0)\n",
      "Rect(320.0, 896.00000000003956, nan, 896.0)\n",
      "Rect(6.0, 14.000000000071877, nan, 14.0)\n",
      "Rect(384.0, 896.00000000460011, nan, 896.0)\n",
      "Rect(7.0, 14.000000011043593, nan, 14.0)\n",
      "Rect(448.0, 896.00000070678993, nan, 896.0)\n",
      "Rect(8.0, 14.000001644413146, nan, 14.000001549720764)\n",
      "Rect(512.0, 896.00010524244135, nan, 896.00009918212891)\n",
      "Rect(9.0, 14.000042013347411, nan, 14.000041961669922)\n",
      "Rect(576.0, 896.00268885423429, nan, 896.002685546875)\n",
      "Rect(10.0, 14.000086616390035, nan, 14.000086665153503)\n",
      "Rect(640.0, 896.00554344896227, nan, 896.00554656982422)\n",
      "Rect(11.0, 14.000047869907576, nan, 14.00004780292511)\n",
      "Rect(704.0, 896.00306367408484, nan, 896.00305938720703)\n",
      "Rect(12.0, 14.000036200399336, nan, 14.000036120414734)\n",
      "Rect(768.0, 896.0023168255575, nan, 896.00231170654297)\n",
      "Rect(13.0, 14.000038320697058, nan, 14.000038385391235)\n",
      "Rect(832.0, 896.00245252461173, nan, 896.00245666503906)\n",
      "Rect(14.0, 14.00000195168991, 14.0, 14.000002026557922)\n",
      "Rect(896.0, 896.00012490815425, 896.0, 896.00012969970703)\n",
      "[(0.81043369, Rect(15.393586158752441, 41.819694519042969, 93.837783813476562, 77.541000366210938)), (0.19671908, Rect(17.652002334594727, 103.32733154296875, 103.00498962402344, 147.65042114257812)), (0.19671908, Rect(17.652002334594727, 167.32733154296875, 103.00498962402344, 211.65042114257812)), (0.19671908, Rect(17.652002334594727, 231.32733154296875, 103.00498962402344, 275.65042114257812)), (0.19671908, Rect(17.652002334594727, 295.32733154296875, 103.00498962402344, 339.65042114257812)), (0.19671908, Rect(17.652002334594727, 359.32733154296875, 103.00498962402344, 403.65042114257812)), (0.19671908, Rect(17.652002334594727, 423.32733154296875, 103.00498962402344, 467.65042114257812)), (0.19671908, Rect(17.652002334594727, 487.32733154296875, 103.00498962402344, 531.65042114257812)), (0.19671908, Rect(17.652002334594727, 551.32733154296875, 103.00498962402344, 595.65042114257812)), (0.19671908, Rect(17.652002334594727, 615.32733154296875, 103.00498962402344, 659.65042114257812)), (0.19671908, Rect(17.652002334594727, 679.32733154296875, 103.00498962402344, 723.65042114257812)), (0.19671908, Rect(17.652002334594727, 743.32733154296875, 103.00498962402344, 787.65042114257812)), (0.19671908, Rect(17.652002334594727, 807.32733154296875, 103.00498962402344, 851.65042114257812)), (0.040268581, Rect(75.206911087036133, 33.096031188964844, 165.11708068847656, 74.891242980957031)), (0.040268581, Rect(139.20691108703613, 33.096031188964844, 229.11708068847656, 74.891242980957031)), (0.040268581, Rect(203.20691108703613, 33.096031188964844, 293.11708068847656, 74.891242980957031)), (0.040268581, Rect(267.20691108703613, 33.096031188964844, 357.11708068847656, 74.891242980957031)), (0.040268581, Rect(331.20691108703613, 33.096031188964844, 421.11708068847656, 74.891242980957031)), (0.040268581, Rect(395.20691108703613, 33.096031188964844, 485.11708068847656, 74.891242980957031)), (0.040268581, Rect(459.20691108703613, 33.096031188964844, 549.11708068847656, 74.891242980957031))]\n",
      "(0.81043369, 0.19671908, 0.19671908, 0.19671908, 0.19671908, 0.19671908, 0.19671908, 0.19671908, 0.19671908, 0.19671908, 0.19671908, 0.19671908, 0.19671908, 0.040268581, 0.040268581, 0.040268581, 0.040268581, 0.040268581, 0.040268581, 0.040268581)\n",
      "Rect(15.393586158752441, 41.819694519042969, 93.837783813476562, 77.541000366210938)\n",
      "Rect(17.652002334594727, 103.32733154296875, 103.00498962402344, 147.65042114257812)\n",
      "Rect(17.652002334594727, 167.32733154296875, 103.00498962402344, 211.65042114257812)\n",
      "Rect(17.652002334594727, 231.32733154296875, 103.00498962402344, 275.65042114257812)\n",
      "Rect(17.652002334594727, 295.32733154296875, 103.00498962402344, 339.65042114257812)\n",
      "Rect(17.652002334594727, 359.32733154296875, 103.00498962402344, 403.65042114257812)\n",
      "Rect(17.652002334594727, 423.32733154296875, 103.00498962402344, 467.65042114257812)\n",
      "Rect(17.652002334594727, 487.32733154296875, 103.00498962402344, 531.65042114257812)\n",
      "Rect(17.652002334594727, 551.32733154296875, 103.00498962402344, 595.65042114257812)\n",
      "Rect(17.652002334594727, 615.32733154296875, 103.00498962402344, 659.65042114257812)\n",
      "Rect(17.652002334594727, 679.32733154296875, 103.00498962402344, 723.65042114257812)\n",
      "Rect(17.652002334594727, 743.32733154296875, 103.00498962402344, 787.65042114257812)\n",
      "Rect(17.652002334594727, 807.32733154296875, 103.00498962402344, 851.65042114257812)\n",
      "Rect(75.206911087036133, 33.096031188964844, 165.11708068847656, 74.891242980957031)\n",
      "Rect(139.20691108703613, 33.096031188964844, 229.11708068847656, 74.891242980957031)\n",
      "Rect(203.20691108703613, 33.096031188964844, 293.11708068847656, 74.891242980957031)\n",
      "Rect(267.20691108703613, 33.096031188964844, 357.11708068847656, 74.891242980957031)\n",
      "Rect(331.20691108703613, 33.096031188964844, 421.11708068847656, 74.891242980957031)\n",
      "Rect(395.20691108703613, 33.096031188964844, 485.11708068847656, 74.891242980957031)\n",
      "Rect(459.20691108703613, 33.096031188964844, 549.11708068847656, 74.891242980957031)\n"
     ]
    }
   ],
   "source": [
    "confs, rects = ssd_converter.restore_rects(tensors, top=20)\n",
    "print confs\n",
    "for rect in rects:\n",
    "    print rect"
   ]
  },
  {
   "cell_type": "code",
   "execution_count": null,
   "metadata": {},
   "outputs": [],
   "source": []
  },
  {
   "cell_type": "code",
   "execution_count": 63,
   "metadata": {},
   "outputs": [
    {
     "name": "stdout",
     "output_type": "stream",
     "text": [
      "255.0 0.0\n",
      "Rect(15.393586158752441, 41.819694519042969, 93.837783813476562, 77.541000366210938)\n",
      "Rect(17.652002334594727, 103.32733154296875, 103.00498962402344, 147.65042114257812)\n",
      "Rect(17.652002334594727, 167.32733154296875, 103.00498962402344, 211.65042114257812)\n",
      "Rect(17.652002334594727, 231.32733154296875, 103.00498962402344, 275.65042114257812)\n",
      "Rect(17.652002334594727, 295.32733154296875, 103.00498962402344, 339.65042114257812)\n"
     ]
    },
    {
     "data": {
      "image/png": "[encoded data removed]",
      "text/plain": [
       "<matplotlib.figure.Figure at 0x7fa421ad7cd0>"
      ]
     },
     "metadata": {},
     "output_type": "display_data"
    }
   ],
   "source": [
    "i = 0\n",
    "# Create figure and axes\n",
    "fig,ax = plt.subplots(1, figsize=(12, 12))\n",
    "\n",
    "# Display the image\n",
    "show_img_from_gen(ax, img)\n",
    "shape = gen[0]['input'].shape[1:3]\n",
    "\n",
    "#r = patches.Rectangle((50,50),100,100,linewidth=2,edgecolor='r',facecolor='none')\n",
    "#ax.add_patch(r)\n",
    "\n",
    "from rect import Rect\n",
    "def clip_rect(rect, h, w):\n",
    "    return Rect(max(0, rect.left), max(0, rect.top), min(w, rect.right), min(h, rect.bottom))\n",
    "\n",
    "for rect in rects[:5]:\n",
    "    # Create a Rectangle patch\n",
    "    rr = clip_rect(rect, shape[0], shape[1])\n",
    "    print rr\n",
    "    #rr.dump()\n",
    "    #rr.stretch(300, 300)\n",
    "    #rr.dump()\n",
    "    r = patches.Rectangle((rr.left,rr.top),rr.width(),rr.height(),linewidth=1.5,edgecolor='r' ,facecolor='none')\n",
    "\n",
    "    # Add the patch to the Axes\n",
    "    ax.add_patch(r)\n",
    "    \n",
    "cnt = (gen[1]['class'].shape[1] + 1) / 2\n",
    "edge = shape[0] / cnt\n",
    "    \n",
    "for i in range(cnt):\n",
    "    for j in range(cnt):\n",
    "    # Create a Rectangle patch\n",
    "        rr = Rect(edge * i, edge * j, edge * (i + 1), edge * (j + 1))\n",
    "        r = patches.Rectangle((rr.left,rr.top),rr.width(),rr.height(),linewidth=0.5,edgecolor='b',facecolor='none')\n",
    "\n",
    "        # Add the patch to the Axes\n",
    "        ax.add_patch(r)\n",
    "    \n",
    "for rect in []: #tr:\n",
    "    # Create a Rectangle patch\n",
    "    #rr = rect.copy()\n",
    "    #rr.stretch(300, 300)\n",
    "    r = patches.Rectangle((rr.left,rr.top),rr.width(),rr.height(),linewidth=2,edgecolor='g',facecolor='none')\n",
    "\n",
    "    # Add the patch to the Axes\n",
    "    ax.add_patch(r)\n",
    "\n",
    "plt.show()\n",
    "\n",
    "i += 1"
   ]
  },
  {
   "cell_type": "code",
   "execution_count": null,
   "metadata": {
    "collapsed": true
   },
   "outputs": [],
   "source": []
  },
  {
   "cell_type": "code",
   "execution_count": 20,
   "metadata": {},
   "outputs": [
    {
     "ename": "Exception",
     "evalue": "ssd model expected",
     "output_type": "error",
     "traceback": [
      "\u001b[0;31m---------------------------------------------------------------------------\u001b[0m",
      "\u001b[0;31mException\u001b[0m                                 Traceback (most recent call last)",
      "\u001b[0;32m<ipython-input-20-992eb475d925>\u001b[0m in \u001b[0;36m<module>\u001b[0;34m()\u001b[0m\n\u001b[1;32m      1\u001b[0m \u001b[0mreload\u001b[0m\u001b[0;34m(\u001b[0m\u001b[0mconverter\u001b[0m\u001b[0;34m)\u001b[0m\u001b[0;34m\u001b[0m\u001b[0m\n\u001b[1;32m      2\u001b[0m \u001b[0;32mfrom\u001b[0m \u001b[0mconverter\u001b[0m \u001b[0;32mimport\u001b[0m \u001b[0mConverter\u001b[0m\u001b[0;34m\u001b[0m\u001b[0m\n\u001b[0;32m----> 3\u001b[0;31m \u001b[0mconv\u001b[0m \u001b[0;34m=\u001b[0m \u001b[0mConverter\u001b[0m\u001b[0;34m(\u001b[0m\u001b[0mos\u001b[0m\u001b[0;34m.\u001b[0m\u001b[0mpath\u001b[0m\u001b[0;34m.\u001b[0m\u001b[0mjoin\u001b[0m\u001b[0;34m(\u001b[0m\u001b[0mROOT\u001b[0m\u001b[0;34m,\u001b[0m \u001b[0;34m'Barcodes'\u001b[0m\u001b[0;34m,\u001b[0m \u001b[0;34m'Rects'\u001b[0m\u001b[0;34m)\u001b[0m\u001b[0;34m)\u001b[0m\u001b[0;34m\u001b[0m\u001b[0m\n\u001b[0m\u001b[1;32m      4\u001b[0m \u001b[0;34m\u001b[0m\u001b[0m\n\u001b[1;32m      5\u001b[0m \u001b[0;32mimport\u001b[0m \u001b[0mpredictor\u001b[0m\u001b[0;34m\u001b[0m\u001b[0m\n",
      "\u001b[0;32m/home/nik-kochetov/work/common_3/converter.pyc\u001b[0m in \u001b[0;36m__init__\u001b[0;34m(self, model)\u001b[0m\n\u001b[1;32m     12\u001b[0m \u001b[0;34m\u001b[0m\u001b[0m\n\u001b[1;32m     13\u001b[0m         \u001b[0;32mif\u001b[0m \u001b[0;32mnot\u001b[0m \u001b[0misinstance\u001b[0m\u001b[0;34m(\u001b[0m\u001b[0mmodel\u001b[0m\u001b[0;34m,\u001b[0m \u001b[0mSSDModel\u001b[0m\u001b[0;34m)\u001b[0m\u001b[0;34m:\u001b[0m\u001b[0;34m\u001b[0m\u001b[0m\n\u001b[0;32m---> 14\u001b[0;31m             \u001b[0;32mraise\u001b[0m \u001b[0mException\u001b[0m\u001b[0;34m(\u001b[0m\u001b[0;34m\"ssd model expected\"\u001b[0m\u001b[0;34m)\u001b[0m\u001b[0;34m\u001b[0m\u001b[0m\n\u001b[0m\u001b[1;32m     15\u001b[0m \u001b[0;34m\u001b[0m\u001b[0m\n\u001b[1;32m     16\u001b[0m         \u001b[0mself\u001b[0m\u001b[0;34m.\u001b[0m\u001b[0mmodel\u001b[0m \u001b[0;34m=\u001b[0m \u001b[0mmodel\u001b[0m\u001b[0;34m\u001b[0m\u001b[0m\n",
      "\u001b[0;31mException\u001b[0m: ssd model expected"
     ]
    }
   ],
   "source": [
    "reload(converter)\n",
    "from converter import Converter\n",
    "conv = Converter(os.path.join(ROOT, 'Barcodes', 'Rects'))\n",
    "\n",
    "import predictor\n",
    "reload(predictor)\n",
    "from predictor import Predictor\n",
    "ssd_predictor = Predictor(model, conv)"
   ]
  },
  {
   "cell_type": "code",
   "execution_count": 21,
   "metadata": {},
   "outputs": [
    {
     "ename": "NameError",
     "evalue": "name 'ssd_predictor' is not defined",
     "output_type": "error",
     "traceback": [
      "\u001b[0;31m---------------------------------------------------------------------------\u001b[0m",
      "\u001b[0;31mNameError\u001b[0m                                 Traceback (most recent call last)",
      "\u001b[0;32m<ipython-input-21-30ec821a4707>\u001b[0m in \u001b[0;36m<module>\u001b[0;34m()\u001b[0m\n\u001b[1;32m      1\u001b[0m \u001b[0;31m#conv = Converter(os.path.join(ROOT, 'Barcodes', 'Rects'))\u001b[0m\u001b[0;34m\u001b[0m\u001b[0;34m\u001b[0m\u001b[0m\n\u001b[0;32m----> 2\u001b[0;31m \u001b[0mrects\u001b[0m \u001b[0;34m=\u001b[0m \u001b[0mssd_predictor\u001b[0m\u001b[0;34m.\u001b[0m\u001b[0mpredict\u001b[0m\u001b[0;34m(\u001b[0m\u001b[0mcurr_img_path\u001b[0m\u001b[0;34m,\u001b[0m \u001b[0mtop\u001b[0m\u001b[0;34m=\u001b[0m\u001b[0;36m3\u001b[0m\u001b[0;34m)\u001b[0m\u001b[0;34m\u001b[0m\u001b[0m\n\u001b[0m\u001b[1;32m      3\u001b[0m \u001b[0;34m\u001b[0m\u001b[0m\n\u001b[1;32m      4\u001b[0m \u001b[0;32mfor\u001b[0m \u001b[0mrect\u001b[0m \u001b[0;32min\u001b[0m \u001b[0mrects\u001b[0m\u001b[0;34m:\u001b[0m\u001b[0;34m\u001b[0m\u001b[0m\n\u001b[1;32m      5\u001b[0m     \u001b[0;32mprint\u001b[0m \u001b[0mrect\u001b[0m\u001b[0;34m.\u001b[0m\u001b[0mconf\u001b[0m\u001b[0;34m\u001b[0m\u001b[0m\n",
      "\u001b[0;31mNameError\u001b[0m: name 'ssd_predictor' is not defined"
     ]
    }
   ],
   "source": [
    "#conv = Converter(os.path.join(ROOT, 'Barcodes', 'Rects'))\n",
    "rects = ssd_predictor.predict(curr_img_path, top=3)\n",
    "\n",
    "for rect in rects:\n",
    "    print rect.conf\n",
    "    rect.rect.dump()"
   ]
  },
  {
   "cell_type": "code",
   "execution_count": null,
   "metadata": {
    "collapsed": true
   },
   "outputs": [],
   "source": []
  },
  {
   "cell_type": "code",
   "execution_count": 99,
   "metadata": {},
   "outputs": [
    {
     "name": "stdout",
     "output_type": "stream",
     "text": [
      "l=6.6407028648,t=-117.915729243,r=179.845783622,b=401.699513027\n",
      "None\n",
      "l=-1.46740524331,t=-117.915729243,r=171.737675514,b=401.699513027\n",
      "None\n",
      "l=-9.57551335142,t=-109.807621135,r=163.629567405,b=409.807621135\n",
      "None\n"
     ]
    },
    {
     "data": {
      "image/png": "[encoded data removed]",
      "text/plain": [
       "<matplotlib.figure.Figure at 0x7f595bf0f490>"
      ]
     },
     "metadata": {},
     "output_type": "display_data"
    }
   ],
   "source": [
    "# Create figure and axes\n",
    "fig,ax = plt.subplots(1, figsize=(12, 10))\n",
    "\n",
    "# Display the image\n",
    "ax.imshow(img)\n",
    "\n",
    "#r = patches.Rectangle((50,50),100,100,linewidth=2,edgecolor='r',facecolor='none')\n",
    "#ax.add_patch(r)\n",
    "\n",
    "\n",
    "for rect in rects[:3]:\n",
    "    # Create a Rectangle patch\n",
    "    rr = rect.rect.copy()\n",
    "    #rr.stretch(300, 300)\n",
    "    print rr.dump()\n",
    "    r = patches.Rectangle((rr.left,rr.top),rr.width(),rr.height(),linewidth=2,edgecolor='r',facecolor='none')\n",
    "\n",
    "    # Add the patch to the Axes\n",
    "    ax.add_patch(r)\n",
    "\n",
    "plt.show()"
   ]
  },
  {
   "cell_type": "code",
   "execution_count": null,
   "metadata": {
    "collapsed": true
   },
   "outputs": [],
   "source": []
  },
  {
   "cell_type": "code",
   "execution_count": null,
   "metadata": {
    "collapsed": true
   },
   "outputs": [],
   "source": []
  }
 ],
 "metadata": {
  "kernelspec": {
   "display_name": "Python 2",
   "language": "python",
   "name": "python2"
  },
  "language_info": {
   "codemirror_mode": {
    "name": "ipython",
    "version": 2
   },
   "file_extension": ".py",
   "mimetype": "text/x-python",
   "name": "python",
   "nbconvert_exporter": "python",
   "pygments_lexer": "ipython2",
   "version": "2.7.14"
  }
 },
 "nbformat": 4,
 "nbformat_minor": 2
}
