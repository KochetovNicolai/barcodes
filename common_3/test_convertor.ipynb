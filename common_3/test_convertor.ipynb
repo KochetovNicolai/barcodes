{
 "cells": [
  {
   "cell_type": "code",
   "execution_count": 1,
   "metadata": {},
   "outputs": [
    {
     "name": "stdout",
     "output_type": "stream",
     "text": [
      "/home/nik-kochetov/work\n",
      "/home/nik-kochetov/work/common\n",
      "/home/nik-kochetov/work/Barcodes_1d/annotations.json\n",
      "/home/nik-kochetov/work/VOC/JPEGImages\n"
     ]
    }
   ],
   "source": [
    "import os\n",
    "BAR = 'Barcodes_1d'\n",
    "ROOT = open('../root').read().strip()\n",
    "print ROOT\n",
    "img_path = os.path.join(ROOT, 'common')\n",
    "print img_path\n",
    "anno_path = os.path.join(ROOT, BAR, 'annotations.json')\n",
    "print anno_path\n",
    "voc_path = os.path.join(ROOT, 'VOC', 'JPEGImages')\n",
    "print voc_path"
   ]
  },
  {
   "cell_type": "code",
   "execution_count": 2,
   "metadata": {},
   "outputs": [
    {
     "name": "stderr",
     "output_type": "stream",
     "text": [
      "Using Theano backend.\n"
     ]
    },
    {
     "name": "stdout",
     "output_type": "stream",
     "text": [
      "dleft_block4_bbox (None, None, None, 1)\n",
      "dtop_block4_bbox (None, None, None, 1)\n",
      "dright_block4_bbox (None, None, None, 1)\n",
      "dbottom_block4_bbox (None, None, None, 1)\n",
      "block4_class (None, None, None, 1)\n"
     ]
    }
   ],
   "source": [
    "from model import SSDModel\n",
    "ssd_model = SSDModel()"
   ]
  },
  {
   "cell_type": "code",
   "execution_count": 3,
   "metadata": {},
   "outputs": [
    {
     "name": "stdout",
     "output_type": "stream",
     "text": [
      "8111\n",
      "{u'name': u'0001.jpg', u'shape': [3585, 2661, 3], u'Rects': [[594, 1081, 326, 575], [568, 1054, 1131, 1382], [593, 1074, 718, 968], [572, 1057, 1566, 1817], [564, 1050, 1964, 2217], [567, 1048, 2437, 2691]], u'path': u'Barcodes_1d/UPC-E', u'id': u'0001', u'Types': [u'UPCE', u'UPCE', u'UPCE', u'UPCE', u'UPCE', u'UPCE']}\n"
     ]
    }
   ],
   "source": [
    "import json\n",
    "with open(anno_path) as f:\n",
    "    anno = json.loads(f.read())\n",
    "print len(anno)\n",
    "print anno[0]"
   ]
  },
  {
   "cell_type": "code",
   "execution_count": null,
   "metadata": {
    "collapsed": true
   },
   "outputs": [],
   "source": []
  },
  {
   "cell_type": "code",
   "execution_count": 4,
   "metadata": {
    "collapsed": true
   },
   "outputs": [],
   "source": [
    "from matplotlib.pyplot import imshow\n",
    "import numpy as np\n",
    "from PIL import Image\n",
    "\n",
    "import matplotlib.pyplot as plt\n",
    "import matplotlib.patches as patches\n",
    "%matplotlib inline"
   ]
  },
  {
   "cell_type": "code",
   "execution_count": 5,
   "metadata": {},
   "outputs": [
    {
     "name": "stdout",
     "output_type": "stream",
     "text": [
      "['block4_class']\n",
      "['dleft_block4_bbox', 'dtop_block4_bbox', 'dright_block4_bbox', 'dbottom_block4_bbox']\n"
     ]
    }
   ],
   "source": [
    "print ssd_model.cls_names\n",
    "print ssd_model.bbox_names"
   ]
  },
  {
   "cell_type": "code",
   "execution_count": 6,
   "metadata": {
    "collapsed": true
   },
   "outputs": [],
   "source": [
    "def tensor_dict_to_list(model, tensor_dict):\n",
    "    lst = []\n",
    "    for name in ssd_model.bbox_names:\n",
    "        lst.append(tensor_dict[name])\n",
    "    for name in ssd_model.cls_names:\n",
    "        lst.append(tensor_dict[name])\n",
    "    return lst"
   ]
  },
  {
   "cell_type": "code",
   "execution_count": 47,
   "metadata": {},
   "outputs": [],
   "source": [
    "import generator\n",
    "reload(generator)\n",
    "from generator import Generator\n",
    "ssd_generator = Generator(ROOT, ssd_model)"
   ]
  },
  {
   "cell_type": "code",
   "execution_count": 111,
   "metadata": {},
   "outputs": [],
   "source": [
    "generator = ssd_generator.generate(anno[100:], 1, True)"
   ]
  },
  {
   "cell_type": "code",
   "execution_count": 112,
   "metadata": {},
   "outputs": [
    {
     "name": "stdout",
     "output_type": "stream",
     "text": [
      "{u'name': u'0023.jpg', u'shape': [3490, 2479, 3], u'Rects': [[600, 902, 884, 1029], [1755, 2150, 724, 856]], u'path': u'Barcodes_1d/Reclamations Interleaved 2 of 5', u'id': u'0023', u'Types': [u'Interleaved25', u'Code39']}\n"
     ]
    }
   ],
   "source": [
    "print anno[100]"
   ]
  },
  {
   "cell_type": "code",
   "execution_count": 125,
   "metadata": {},
   "outputs": [
    {
     "name": "stdout",
     "output_type": "stream",
     "text": [
      "next batch:\n",
      "img: Barcodes_1d/Reclamations Interleaved 2 of 5/0023.jpg\n",
      "window:  Rect(1, 522, 1025, 1546)\n",
      "tensors: [(0, 0, 0.5849609375, 0.353515625, 0.8798828125, 0.4951171875, 0.04176139831542969)]\n"
     ]
    }
   ],
   "source": [
    "gen = next(generator)"
   ]
  },
  {
   "cell_type": "code",
   "execution_count": 126,
   "metadata": {},
   "outputs": [
    {
     "name": "stdout",
     "output_type": "stream",
     "text": [
      "dtop_block4_bbox (1, 3, 3, 1)\n",
      "block4_class (1, 3, 3, 1)\n",
      "dleft_block4_bbox (1, 3, 3, 1)\n",
      "input (1, 64, 64, 3)\n",
      "dbottom_block4_bbox (1, 3, 3, 1)\n",
      "dright_block4_bbox (1, 3, 3, 1)\n"
     ]
    }
   ],
   "source": [
    "for key, value in gen.items():\n",
    "    print key, value.shape"
   ]
  },
  {
   "cell_type": "code",
   "execution_count": 127,
   "metadata": {},
   "outputs": [
    {
     "name": "stdout",
     "output_type": "stream",
     "text": [
      "Barcodes_1d/UPC-E/0001.jpg\n"
     ]
    }
   ],
   "source": [
    "print anno[0]['path'] + '/' + anno[0]['name']"
   ]
  },
  {
   "cell_type": "code",
   "execution_count": 128,
   "metadata": {},
   "outputs": [
    {
     "name": "stdout",
     "output_type": "stream",
     "text": [
      "255.0 0.0\n"
     ]
    },
    {
     "data": {
      "image/png": "[encoded data removed]",
      "text/plain": [
       "<matplotlib.figure.Figure at 0x7fb04f5b01d0>"
      ]
     },
     "metadata": {},
     "output_type": "display_data"
    }
   ],
   "source": [
    "def show_img_from_gen(ax, gen):\n",
    "    def unprocess(y):\n",
    "            x = np.copy(y)\n",
    "            # Zero-decenter by mean pixel\n",
    "            x[:, :, :, 0] += 103.939\n",
    "            x[:, :, :, 1] += 116.779\n",
    "            x[:, :, :, 2] += 123.68\n",
    "\n",
    "            # 'BGR'->'RGB'\n",
    "            x = x[:, :, :, ::-1]\n",
    "            print np.max(x), np.min(x)\n",
    "            return x / 265.0\n",
    "\n",
    "\n",
    "    ax.imshow(np.reshape(unprocess(gen['input'])[0], gen['input'].shape[1:]))\n",
    "    \n",
    "    \n",
    "fig, ax = plt.subplots(figsize=(12, 12))\n",
    "show_img_from_gen(ax, gen)"
   ]
  },
  {
   "cell_type": "code",
   "execution_count": 129,
   "metadata": {
    "collapsed": true
   },
   "outputs": [],
   "source": [
    "import converter\n",
    "reload(converter)\n",
    "ssd_converter = converter.Converter(ssd_model)"
   ]
  },
  {
   "cell_type": "code",
   "execution_count": 130,
   "metadata": {
    "collapsed": true
   },
   "outputs": [],
   "source": [
    "tensors = [gen[name] for name in ssd_model.bbox_names + ssd_model.cls_names]"
   ]
  },
  {
   "cell_type": "code",
   "execution_count": 131,
   "metadata": {
    "scrolled": false
   },
   "outputs": [
    {
     "name": "stdout",
     "output_type": "stream",
     "text": [
      "3 3\n",
      "2 2\n",
      "(1, 3, 3, 1)\n",
      "1.0 0 0 0.5849609375 0.8798828125 0.353515625 0.4951171875\n",
      "Rect(1.169921875, 0.70703125, 1.759765625, 0.990234375)\n",
      "Rect(37.4375, 22.625, 56.3125, 31.6875)\n",
      "Rect(1.0, 0.0, 1.0, 0.0)\n",
      "Rect(32.0, 0.0, 32.0, 0.0)\n",
      "Rect(2.0, 0.0, 2.0, 0.0)\n",
      "Rect(64.0, 0.0, 64.0, 0.0)\n",
      "Rect(0.0, 1.0, 0.0, 1.0)\n",
      "Rect(0.0, 32.0, 0.0, 32.0)\n",
      "Rect(1.0, 1.0, 1.0, 1.0)\n",
      "Rect(32.0, 32.0, 32.0, 32.0)\n",
      "Rect(2.0, 1.0, 2.0, 1.0)\n",
      "Rect(64.0, 32.0, 64.0, 32.0)\n",
      "Rect(0.0, 2.0, 0.0, 2.0)\n",
      "Rect(0.0, 64.0, 0.0, 64.0)\n",
      "Rect(1.0, 2.0, 1.0, 2.0)\n",
      "Rect(32.0, 64.0, 32.0, 64.0)\n",
      "Rect(2.0, 2.0, 2.0, 2.0)\n",
      "Rect(64.0, 64.0, 64.0, 64.0)\n",
      "[(1.0, Rect(37.4375, 22.625, 56.3125, 31.6875)), (0.0, Rect(32.0, 0.0, 32.0, 0.0)), (0.0, Rect(64.0, 0.0, 64.0, 0.0)), (0.0, Rect(0.0, 32.0, 0.0, 32.0)), (0.0, Rect(32.0, 32.0, 32.0, 32.0)), (0.0, Rect(64.0, 32.0, 64.0, 32.0)), (0.0, Rect(0.0, 64.0, 0.0, 64.0)), (0.0, Rect(32.0, 64.0, 32.0, 64.0)), (0.0, Rect(64.0, 64.0, 64.0, 64.0))]\n",
      "(1.0, 0.0, 0.0, 0.0, 0.0, 0.0, 0.0, 0.0, 0.0)\n",
      "Rect(37.4375, 22.625, 56.3125, 31.6875)\n",
      "Rect(32.0, 0.0, 32.0, 0.0)\n",
      "Rect(64.0, 0.0, 64.0, 0.0)\n",
      "Rect(0.0, 32.0, 0.0, 32.0)\n",
      "Rect(32.0, 32.0, 32.0, 32.0)\n",
      "Rect(64.0, 32.0, 64.0, 32.0)\n",
      "Rect(0.0, 64.0, 0.0, 64.0)\n",
      "Rect(32.0, 64.0, 32.0, 64.0)\n",
      "Rect(64.0, 64.0, 64.0, 64.0)\n"
     ]
    }
   ],
   "source": [
    "confs, rects = ssd_converter.restore_rects(tensors, top=20)\n",
    "print confs\n",
    "for rect in rects:\n",
    "    print rect"
   ]
  },
  {
   "cell_type": "code",
   "execution_count": 132,
   "metadata": {
    "collapsed": true
   },
   "outputs": [],
   "source": [
    "tr = [] #Rect(0.319444444444,0.0138888888889,0.723424641979,0.417869086423)]"
   ]
  },
  {
   "cell_type": "code",
   "execution_count": 133,
   "metadata": {
    "collapsed": true
   },
   "outputs": [],
   "source": [
    "i = 0"
   ]
  },
  {
   "cell_type": "code",
   "execution_count": 134,
   "metadata": {
    "scrolled": false
   },
   "outputs": [
    {
     "name": "stdout",
     "output_type": "stream",
     "text": [
      "255.0 0.0\n",
      "Rect(37.4375, 22.625, 56.3125, 31.6875)\n",
      "Rect(32.0, 0, 32.0, 0.0)\n",
      "Rect(64.0, 0, 64, 0.0)\n",
      "Rect(0, 32.0, 0.0, 32.0)\n",
      "Rect(32.0, 32.0, 32.0, 32.0)\n",
      "Rect(64.0, 32.0, 64, 32.0)\n",
      "Rect(0, 64.0, 0.0, 64)\n",
      "Rect(32.0, 64.0, 32.0, 64)\n",
      "Rect(64.0, 64.0, 64, 64)\n"
     ]
    },
    {
     "data": {
      "image/png": "[encoded data removed]",
      "text/plain": [
       "<matplotlib.figure.Figure at 0x7fb04f7b6b10>"
      ]
     },
     "metadata": {},
     "output_type": "display_data"
    }
   ],
   "source": [
    "# Create figure and axes\n",
    "fig,ax = plt.subplots(1, figsize=(12, 12))\n",
    "\n",
    "# Display the image\n",
    "show_img_from_gen(ax, gen)\n",
    "shape = gen['input'].shape[1:3]\n",
    "\n",
    "#r = patches.Rectangle((50,50),100,100,linewidth=2,edgecolor='r',facecolor='none')\n",
    "#ax.add_patch(r)\n",
    "\n",
    "from rect import Rect\n",
    "def clip_rect(rect, h, w):\n",
    "    return Rect(max(0, rect.left), max(0, rect.top), min(w, rect.right), min(h, rect.bottom))\n",
    "\n",
    "for rect in rects[:]:\n",
    "    # Create a Rectangle patch\n",
    "    rr = clip_rect(rect, shape[0], shape[1])\n",
    "    print rr\n",
    "    #rr.dump()\n",
    "    #rr.stretch(300, 300)\n",
    "    #rr.dump()\n",
    "    r = patches.Rectangle((rr.left,rr.top),rr.width(),rr.height(),linewidth=1.5,edgecolor='r' ,facecolor='none')\n",
    "\n",
    "    # Add the patch to the Axes\n",
    "    ax.add_patch(r)\n",
    "    \n",
    "cnt = 8\n",
    "edge = shape[0] / cnt\n",
    "    \n",
    "for i in range(cnt):\n",
    "    for j in range(cnt):\n",
    "    # Create a Rectangle patch\n",
    "        rr = Rect(edge * i, edge * j, edge * (i + 1), edge * (j + 1))\n",
    "        r = patches.Rectangle((rr.left,rr.top),rr.width(),rr.height(),linewidth=0.5,edgecolor='b',facecolor='none')\n",
    "\n",
    "        # Add the patch to the Axes\n",
    "        ax.add_patch(r)\n",
    "    \n",
    "for rect in []: #tr:\n",
    "    # Create a Rectangle patch\n",
    "    #rr = rect.copy()\n",
    "    #rr.stretch(300, 300)\n",
    "    r = patches.Rectangle((rr.left,rr.top),rr.width(),rr.height(),linewidth=1.5,edgecolor='g',facecolor='none')\n",
    "\n",
    "    # Add the patch to the Axes\n",
    "    ax.add_patch(r)\n",
    "\n",
    "plt.show()\n",
    "\n",
    "i += 1"
   ]
  },
  {
   "cell_type": "code",
   "execution_count": null,
   "metadata": {
    "collapsed": true
   },
   "outputs": [],
   "source": []
  },
  {
   "cell_type": "code",
   "execution_count": null,
   "metadata": {
    "collapsed": true
   },
   "outputs": [],
   "source": []
  }
 ],
 "metadata": {
  "kernelspec": {
   "display_name": "Python 2",
   "language": "python",
   "name": "python2"
  },
  "language_info": {
   "codemirror_mode": {
    "name": "ipython",
    "version": 2
   },
   "file_extension": ".py",
   "mimetype": "text/x-python",
   "name": "python",
   "nbconvert_exporter": "python",
   "pygments_lexer": "ipython2",
   "version": "2.7.14"
  }
 },
 "nbformat": 4,
 "nbformat_minor": 2
}
