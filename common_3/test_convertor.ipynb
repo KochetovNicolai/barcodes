{
 "cells": [
  {
   "cell_type": "code",
   "execution_count": 1,
   "metadata": {},
   "outputs": [
    {
     "name": "stdout",
     "output_type": "stream",
     "text": [
      "/home/nik-kochetov/work\n",
      "/home/nik-kochetov/work/common\n",
      "/home/nik-kochetov/work/Barcodes_1d/annotations.json\n",
      "/home/nik-kochetov/work/VOC/JPEGImages\n"
     ]
    }
   ],
   "source": [
    "import os\n",
    "BAR = 'Barcodes_1d'\n",
    "ROOT = open('../root').read().strip()\n",
    "print ROOT\n",
    "img_path = os.path.join(ROOT, 'common')\n",
    "print img_path\n",
    "anno_path = os.path.join(ROOT, BAR, 'annotations.json')\n",
    "print anno_path\n",
    "voc_path = os.path.join(ROOT, 'VOC', 'JPEGImages')\n",
    "print voc_path"
   ]
  },
  {
   "cell_type": "code",
   "execution_count": 2,
   "metadata": {},
   "outputs": [
    {
     "name": "stderr",
     "output_type": "stream",
     "text": [
      "Using Theano backend.\n"
     ]
    },
    {
     "name": "stdout",
     "output_type": "stream",
     "text": [
      "dleft_block4_bbox (None, None, None, 1)\n",
      "dtop_block4_bbox (None, None, None, 1)\n",
      "dright_block4_bbox (None, None, None, 1)\n",
      "dbottom_block4_bbox (None, None, None, 1)\n",
      "block4_class (None, None, None, 1)\n"
     ]
    }
   ],
   "source": [
    "import model\n",
    "reload(model)\n",
    "from model import SSDModel\n",
    "ssd_model = SSDModel()"
   ]
  },
  {
   "cell_type": "code",
   "execution_count": 3,
   "metadata": {},
   "outputs": [
    {
     "name": "stdout",
     "output_type": "stream",
     "text": [
      "8111\n",
      "{u'name': u'0001.jpg', u'shape': [3585, 2661, 3], u'Rects': [[594, 1081, 326, 575], [568, 1054, 1131, 1382], [593, 1074, 718, 968], [572, 1057, 1566, 1817], [564, 1050, 1964, 2217], [567, 1048, 2437, 2691]], u'path': u'Barcodes_1d/UPC-E', u'id': u'0001', u'Types': [u'UPCE', u'UPCE', u'UPCE', u'UPCE', u'UPCE', u'UPCE']}\n"
     ]
    }
   ],
   "source": [
    "import json\n",
    "with open(anno_path) as f:\n",
    "    anno = json.loads(f.read())\n",
    "print len(anno)\n",
    "print anno[0]"
   ]
  },
  {
   "cell_type": "code",
   "execution_count": null,
   "metadata": {
    "collapsed": true
   },
   "outputs": [],
   "source": []
  },
  {
   "cell_type": "code",
   "execution_count": 4,
   "metadata": {
    "collapsed": true
   },
   "outputs": [],
   "source": [
    "from matplotlib.pyplot import imshow\n",
    "import numpy as np\n",
    "from PIL import Image\n",
    "\n",
    "import matplotlib.pyplot as plt\n",
    "import matplotlib.patches as patches\n",
    "%matplotlib inline"
   ]
  },
  {
   "cell_type": "code",
   "execution_count": 5,
   "metadata": {},
   "outputs": [
    {
     "name": "stdout",
     "output_type": "stream",
     "text": [
      "['block4_class']\n",
      "['dleft_block4_bbox', 'dtop_block4_bbox', 'dright_block4_bbox', 'dbottom_block4_bbox']\n"
     ]
    }
   ],
   "source": [
    "print ssd_model.cls_names\n",
    "print ssd_model.bbox_names"
   ]
  },
  {
   "cell_type": "code",
   "execution_count": 6,
   "metadata": {
    "collapsed": true
   },
   "outputs": [],
   "source": [
    "def tensor_dict_to_list(model, tensor_dict):\n",
    "    lst = []\n",
    "    for name in ssd_model.bbox_names:\n",
    "        lst.append(tensor_dict[name])\n",
    "    for name in ssd_model.cls_names:\n",
    "        lst.append(tensor_dict[name])\n",
    "    return lst"
   ]
  },
  {
   "cell_type": "code",
   "execution_count": 13,
   "metadata": {
    "collapsed": true
   },
   "outputs": [],
   "source": [
    "import generator\n",
    "reload(generator)\n",
    "from generator import Generator\n",
    "ssd_generator = Generator(ROOT, ssd_model)"
   ]
  },
  {
   "cell_type": "code",
   "execution_count": 14,
   "metadata": {
    "collapsed": true
   },
   "outputs": [],
   "source": [
    "generator = ssd_generator.generate(anno[100:], 64, True)"
   ]
  },
  {
   "cell_type": "code",
   "execution_count": 15,
   "metadata": {},
   "outputs": [
    {
     "name": "stdout",
     "output_type": "stream",
     "text": [
      "{u'name': u'0023.jpg', u'shape': [3490, 2479, 3], u'Rects': [[600, 902, 884, 1029], [1755, 2150, 724, 856]], u'path': u'Barcodes_1d/Reclamations Interleaved 2 of 5', u'id': u'0023', u'Types': [u'Interleaved25', u'Code39']}\n"
     ]
    }
   ],
   "source": [
    "print anno[100]"
   ]
  },
  {
   "cell_type": "code",
   "execution_count": 16,
   "metadata": {},
   "outputs": [
    {
     "name": "stdout",
     "output_type": "stream",
     "text": [
      "6\n"
     ]
    }
   ],
   "source": [
    "print ssd_model.num_poolings"
   ]
  },
  {
   "cell_type": "code",
   "execution_count": 17,
   "metadata": {},
   "outputs": [
    {
     "name": "stdout",
     "output_type": "stream",
     "text": [
      "next batch:\n",
      "img: Barcodes_1d/Reclamations Interleaved 2 of 5/0023.jpg\n",
      "window:  Rect(411, 574, 2459, 2622)\n",
      "tensors: [(0, 0, 0.369140625, 0.60546875, 0.958984375, 0.888671875, 0.16704559326171875), (1, 0, 0.369140625, 0.10546875, 0.958984375, 0.388671875, 0.16704559326171875), (0, 1, 0.0, 0.60546875, 0.458984375, 0.888671875, 0.12998580932617188), (1, 1, 0.0, 0.10546875, 0.458984375, 0.388671875, 0.12998580932617188), (0, 5, 0.125, 0.29296875, 0.896484375, 0.55078125, 0.1988983154296875), (0, 6, 0.0, 0.29296875, 0.396484375, 0.55078125, 0.1022186279296875)]\n"
     ]
    }
   ],
   "source": [
    "gen = next(generator)"
   ]
  },
  {
   "cell_type": "code",
   "execution_count": 18,
   "metadata": {},
   "outputs": [
    {
     "name": "stdout",
     "output_type": "stream",
     "text": [
      "dtop_block4_bbox (1, 15, 15, 2)\n",
      "dbottom_block4_bbox (1, 15, 15, 2)\n",
      "block4_class (1, 15, 15, 1)\n",
      "dleft_block4_bbox (1, 15, 15, 2)\n",
      "dright_block4_bbox (1, 15, 15, 2)\n",
      "(1, 512, 512, 3)\n"
     ]
    }
   ],
   "source": [
    "for key, value in gen[1].items():\n",
    "    print key, value.shape\n",
    "print gen[0]['input'].shape"
   ]
  },
  {
   "cell_type": "code",
   "execution_count": 19,
   "metadata": {},
   "outputs": [
    {
     "name": "stdout",
     "output_type": "stream",
     "text": [
      "Barcodes_1d/UPC-E/0001.jpg\n"
     ]
    }
   ],
   "source": [
    "print anno[0]['path'] + '/' + anno[0]['name']"
   ]
  },
  {
   "cell_type": "code",
   "execution_count": 20,
   "metadata": {},
   "outputs": [
    {
     "name": "stdout",
     "output_type": "stream",
     "text": [
      "255.0 0.0\n"
     ]
    },
    {
     "data": {
      "image/png": "[encoded data removed]",
      "text/plain": [
       "<matplotlib.figure.Figure at 0x7fe2df205290>"
      ]
     },
     "metadata": {},
     "output_type": "display_data"
    }
   ],
   "source": [
    "def show_img_from_gen(ax, gen):\n",
    "    def unprocess(y):\n",
    "            x = np.copy(y)\n",
    "            # Zero-decenter by mean pixel\n",
    "            x[:, :, :, 0] += 103.939\n",
    "            x[:, :, :, 1] += 116.779\n",
    "            x[:, :, :, 2] += 123.68\n",
    "\n",
    "            # 'BGR'->'RGB'\n",
    "            x = x[:, :, :, ::-1]\n",
    "            print np.max(x), np.min(x)\n",
    "            return x / 265.0\n",
    "\n",
    "\n",
    "    ax.imshow(np.reshape(unprocess(gen[0]['input'])[0], gen[0]['input'].shape[1:]))\n",
    "    \n",
    "    \n",
    "fig, ax = plt.subplots(figsize=(12, 12))\n",
    "show_img_from_gen(ax, gen)"
   ]
  },
  {
   "cell_type": "code",
   "execution_count": 21,
   "metadata": {
    "collapsed": true
   },
   "outputs": [],
   "source": [
    "import converter\n",
    "reload(converter)\n",
    "ssd_converter = converter.Converter(ssd_model)"
   ]
  },
  {
   "cell_type": "code",
   "execution_count": 22,
   "metadata": {
    "collapsed": true
   },
   "outputs": [],
   "source": [
    "tensors = [gen[1][name] for name in ssd_model.bbox_names + ssd_model.cls_names]"
   ]
  },
  {
   "cell_type": "code",
   "execution_count": 23,
   "metadata": {
    "scrolled": false
   },
   "outputs": [
    {
     "name": "stdout",
     "output_type": "stream",
     "text": [
      "15 15\n",
      "8 8\n",
      "(1, 15, 15, 1)\n",
      "1.0 0 0 0.369140625 0.958984375 0.60546875 0.888671875\n",
      "Rect(0.73828125, 1.2109375, 1.91796875, 1.77734375)\n",
      "Rect(47.25, 77.5, 122.75, 113.75)\n",
      "1.0 0 1 0.0 0.458984375 0.60546875 0.888671875\n",
      "Rect(1.0, 1.2109375, 1.91796875, 1.77734375)\n",
      "Rect(64.0, 77.5, 122.75, 113.75)\n",
      "Rect(2.0, 0.0, 2.0, 0.0)\n",
      "Rect(128.0, 0.0, 128.0, 0.0)\n",
      "Rect(3.0, 0.0, 3.0, 0.0)\n",
      "Rect(192.0, 0.0, 192.0, 0.0)\n",
      "Rect(4.0, 0.0, 4.0, 0.0)\n",
      "Rect(256.0, 0.0, 256.0, 0.0)\n",
      "1.0 0 5 0.125 0.896484375 0.29296875 0.55078125\n",
      "Rect(5.25, 0.5859375, 6.79296875, 1.1015625)\n",
      "Rect(336.0, 37.5, 434.75, 70.5)\n",
      "1.0 0 6 0.0 0.396484375 0.29296875 0.55078125\n",
      "Rect(6.0, 0.5859375, 6.79296875, 1.1015625)\n",
      "Rect(384.0, 37.5, 434.75, 70.5)\n",
      "Rect(7.0, 0.0, 7.0, 0.0)\n",
      "Rect(448.0, 0.0, 448.0, 0.0)\n",
      "Rect(8.0, 0.0, 8.0, 0.0)\n",
      "Rect(512.0, 0.0, 512.0, 0.0)\n",
      "Rect(9.0, 0.0, 9.0, 0.0)\n",
      "Rect(576.0, 0.0, 576.0, 0.0)\n",
      "Rect(10.0, 0.0, 10.0, 0.0)\n",
      "Rect(640.0, 0.0, 640.0, 0.0)\n",
      "Rect(11.0, 0.0, 11.0, 0.0)\n",
      "Rect(704.0, 0.0, 704.0, 0.0)\n",
      "Rect(12.0, 0.0, 12.0, 0.0)\n",
      "Rect(768.0, 0.0, 768.0, 0.0)\n",
      "Rect(13.0, 0.0, 13.0, 0.0)\n",
      "Rect(832.0, 0.0, 832.0, 0.0)\n",
      "Rect(14.0, 0.0, 14.0, 0.0)\n",
      "Rect(896.0, 0.0, 896.0, 0.0)\n",
      "1.0 1 0 0.369140625 0.958984375 0.10546875 0.388671875\n",
      "Rect(0.73828125, 1.2109375, 1.91796875, 1.77734375)\n",
      "Rect(47.25, 77.5, 122.75, 113.75)\n",
      "1.0 1 1 0.0 0.458984375 0.10546875 0.388671875\n",
      "Rect(1.0, 1.2109375, 1.91796875, 1.77734375)\n",
      "Rect(64.0, 77.5, 122.75, 113.75)\n",
      "Rect(2.0, 1.0, 2.0, 1.0)\n",
      "Rect(128.0, 64.0, 128.0, 64.0)\n",
      "Rect(3.0, 1.0, 3.0, 1.0)\n",
      "Rect(192.0, 64.0, 192.0, 64.0)\n",
      "Rect(4.0, 1.0, 4.0, 1.0)\n",
      "Rect(256.0, 64.0, 256.0, 64.0)\n",
      "Rect(5.0, 1.0, 5.0, 1.0)\n",
      "Rect(320.0, 64.0, 320.0, 64.0)\n",
      "Rect(6.0, 1.0, 6.0, 1.0)\n",
      "Rect(384.0, 64.0, 384.0, 64.0)\n",
      "Rect(7.0, 1.0, 7.0, 1.0)\n",
      "Rect(448.0, 64.0, 448.0, 64.0)\n",
      "Rect(8.0, 1.0, 8.0, 1.0)\n",
      "Rect(512.0, 64.0, 512.0, 64.0)\n",
      "Rect(9.0, 1.0, 9.0, 1.0)\n",
      "Rect(576.0, 64.0, 576.0, 64.0)\n",
      "Rect(10.0, 1.0, 10.0, 1.0)\n",
      "Rect(640.0, 64.0, 640.0, 64.0)\n",
      "Rect(11.0, 1.0, 11.0, 1.0)\n",
      "Rect(704.0, 64.0, 704.0, 64.0)\n",
      "Rect(12.0, 1.0, 12.0, 1.0)\n",
      "Rect(768.0, 64.0, 768.0, 64.0)\n",
      "Rect(13.0, 1.0, 13.0, 1.0)\n",
      "Rect(832.0, 64.0, 832.0, 64.0)\n",
      "Rect(14.0, 1.0, 14.0, 1.0)\n",
      "Rect(896.0, 64.0, 896.0, 64.0)\n",
      "Rect(0.0, 2.0, 0.0, 2.0)\n",
      "Rect(0.0, 128.0, 0.0, 128.0)\n",
      "Rect(1.0, 2.0, 1.0, 2.0)\n",
      "Rect(64.0, 128.0, 64.0, 128.0)\n",
      "Rect(2.0, 2.0, 2.0, 2.0)\n",
      "Rect(128.0, 128.0, 128.0, 128.0)\n",
      "Rect(3.0, 2.0, 3.0, 2.0)\n",
      "Rect(192.0, 128.0, 192.0, 128.0)\n",
      "Rect(4.0, 2.0, 4.0, 2.0)\n",
      "Rect(256.0, 128.0, 256.0, 128.0)\n",
      "Rect(5.0, 2.0, 5.0, 2.0)\n",
      "Rect(320.0, 128.0, 320.0, 128.0)\n",
      "Rect(6.0, 2.0, 6.0, 2.0)\n",
      "Rect(384.0, 128.0, 384.0, 128.0)\n",
      "Rect(7.0, 2.0, 7.0, 2.0)\n",
      "Rect(448.0, 128.0, 448.0, 128.0)\n",
      "Rect(8.0, 2.0, 8.0, 2.0)\n",
      "Rect(512.0, 128.0, 512.0, 128.0)\n",
      "Rect(9.0, 2.0, 9.0, 2.0)\n",
      "Rect(576.0, 128.0, 576.0, 128.0)\n",
      "Rect(10.0, 2.0, 10.0, 2.0)\n",
      "Rect(640.0, 128.0, 640.0, 128.0)\n",
      "Rect(11.0, 2.0, 11.0, 2.0)\n",
      "Rect(704.0, 128.0, 704.0, 128.0)\n",
      "Rect(12.0, 2.0, 12.0, 2.0)\n",
      "Rect(768.0, 128.0, 768.0, 128.0)\n",
      "Rect(13.0, 2.0, 13.0, 2.0)\n",
      "Rect(832.0, 128.0, 832.0, 128.0)\n",
      "Rect(14.0, 2.0, 14.0, 2.0)\n",
      "Rect(896.0, 128.0, 896.0, 128.0)\n",
      "Rect(0.0, 3.0, 0.0, 3.0)\n",
      "Rect(0.0, 192.0, 0.0, 192.0)\n",
      "Rect(1.0, 3.0, 1.0, 3.0)\n",
      "Rect(64.0, 192.0, 64.0, 192.0)\n",
      "Rect(2.0, 3.0, 2.0, 3.0)\n",
      "Rect(128.0, 192.0, 128.0, 192.0)\n",
      "Rect(3.0, 3.0, 3.0, 3.0)\n",
      "Rect(192.0, 192.0, 192.0, 192.0)\n",
      "Rect(4.0, 3.0, 4.0, 3.0)\n",
      "Rect(256.0, 192.0, 256.0, 192.0)\n",
      "Rect(5.0, 3.0, 5.0, 3.0)\n",
      "Rect(320.0, 192.0, 320.0, 192.0)\n",
      "Rect(6.0, 3.0, 6.0, 3.0)\n",
      "Rect(384.0, 192.0, 384.0, 192.0)\n",
      "Rect(7.0, 3.0, 7.0, 3.0)\n",
      "Rect(448.0, 192.0, 448.0, 192.0)\n",
      "Rect(8.0, 3.0, 8.0, 3.0)\n",
      "Rect(512.0, 192.0, 512.0, 192.0)\n",
      "Rect(9.0, 3.0, 9.0, 3.0)\n",
      "Rect(576.0, 192.0, 576.0, 192.0)\n",
      "Rect(10.0, 3.0, 10.0, 3.0)\n",
      "Rect(640.0, 192.0, 640.0, 192.0)\n",
      "Rect(11.0, 3.0, 11.0, 3.0)\n",
      "Rect(704.0, 192.0, 704.0, 192.0)\n",
      "Rect(12.0, 3.0, 12.0, 3.0)\n",
      "Rect(768.0, 192.0, 768.0, 192.0)\n",
      "Rect(13.0, 3.0, 13.0, 3.0)\n",
      "Rect(832.0, 192.0, 832.0, 192.0)\n",
      "Rect(14.0, 3.0, 14.0, 3.0)\n",
      "Rect(896.0, 192.0, 896.0, 192.0)\n",
      "Rect(0.0, 4.0, 0.0, 4.0)\n",
      "Rect(0.0, 256.0, 0.0, 256.0)\n",
      "Rect(1.0, 4.0, 1.0, 4.0)\n",
      "Rect(64.0, 256.0, 64.0, 256.0)\n",
      "Rect(2.0, 4.0, 2.0, 4.0)\n",
      "Rect(128.0, 256.0, 128.0, 256.0)\n",
      "Rect(3.0, 4.0, 3.0, 4.0)\n",
      "Rect(192.0, 256.0, 192.0, 256.0)\n",
      "Rect(4.0, 4.0, 4.0, 4.0)\n",
      "Rect(256.0, 256.0, 256.0, 256.0)\n",
      "Rect(5.0, 4.0, 5.0, 4.0)\n",
      "Rect(320.0, 256.0, 320.0, 256.0)\n",
      "Rect(6.0, 4.0, 6.0, 4.0)\n",
      "Rect(384.0, 256.0, 384.0, 256.0)\n",
      "Rect(7.0, 4.0, 7.0, 4.0)\n",
      "Rect(448.0, 256.0, 448.0, 256.0)\n",
      "Rect(8.0, 4.0, 8.0, 4.0)\n",
      "Rect(512.0, 256.0, 512.0, 256.0)\n",
      "Rect(9.0, 4.0, 9.0, 4.0)\n",
      "Rect(576.0, 256.0, 576.0, 256.0)\n",
      "Rect(10.0, 4.0, 10.0, 4.0)\n",
      "Rect(640.0, 256.0, 640.0, 256.0)\n",
      "Rect(11.0, 4.0, 11.0, 4.0)\n",
      "Rect(704.0, 256.0, 704.0, 256.0)\n",
      "Rect(12.0, 4.0, 12.0, 4.0)\n",
      "Rect(768.0, 256.0, 768.0, 256.0)\n",
      "Rect(13.0, 4.0, 13.0, 4.0)\n",
      "Rect(832.0, 256.0, 832.0, 256.0)\n",
      "Rect(14.0, 4.0, 14.0, 4.0)\n",
      "Rect(896.0, 256.0, 896.0, 256.0)\n",
      "Rect(0.0, 5.0, 0.0, 5.0)\n",
      "Rect(0.0, 320.0, 0.0, 320.0)\n",
      "Rect(1.0, 5.0, 1.0, 5.0)\n",
      "Rect(64.0, 320.0, 64.0, 320.0)\n",
      "Rect(2.0, 5.0, 2.0, 5.0)\n",
      "Rect(128.0, 320.0, 128.0, 320.0)\n",
      "Rect(3.0, 5.0, 3.0, 5.0)\n",
      "Rect(192.0, 320.0, 192.0, 320.0)\n",
      "Rect(4.0, 5.0, 4.0, 5.0)\n",
      "Rect(256.0, 320.0, 256.0, 320.0)\n",
      "Rect(5.0, 5.0, 5.0, 5.0)\n",
      "Rect(320.0, 320.0, 320.0, 320.0)\n",
      "Rect(6.0, 5.0, 6.0, 5.0)\n",
      "Rect(384.0, 320.0, 384.0, 320.0)\n",
      "Rect(7.0, 5.0, 7.0, 5.0)\n",
      "Rect(448.0, 320.0, 448.0, 320.0)\n",
      "Rect(8.0, 5.0, 8.0, 5.0)\n",
      "Rect(512.0, 320.0, 512.0, 320.0)\n",
      "Rect(9.0, 5.0, 9.0, 5.0)\n",
      "Rect(576.0, 320.0, 576.0, 320.0)\n",
      "Rect(10.0, 5.0, 10.0, 5.0)\n",
      "Rect(640.0, 320.0, 640.0, 320.0)\n",
      "Rect(11.0, 5.0, 11.0, 5.0)\n",
      "Rect(704.0, 320.0, 704.0, 320.0)\n",
      "Rect(12.0, 5.0, 12.0, 5.0)\n",
      "Rect(768.0, 320.0, 768.0, 320.0)\n",
      "Rect(13.0, 5.0, 13.0, 5.0)\n",
      "Rect(832.0, 320.0, 832.0, 320.0)\n",
      "Rect(14.0, 5.0, 14.0, 5.0)\n",
      "Rect(896.0, 320.0, 896.0, 320.0)\n",
      "Rect(0.0, 6.0, 0.0, 6.0)\n",
      "Rect(0.0, 384.0, 0.0, 384.0)\n",
      "Rect(1.0, 6.0, 1.0, 6.0)\n",
      "Rect(64.0, 384.0, 64.0, 384.0)\n",
      "Rect(2.0, 6.0, 2.0, 6.0)\n",
      "Rect(128.0, 384.0, 128.0, 384.0)\n",
      "Rect(3.0, 6.0, 3.0, 6.0)\n",
      "Rect(192.0, 384.0, 192.0, 384.0)\n",
      "Rect(4.0, 6.0, 4.0, 6.0)\n",
      "Rect(256.0, 384.0, 256.0, 384.0)\n",
      "Rect(5.0, 6.0, 5.0, 6.0)\n",
      "Rect(320.0, 384.0, 320.0, 384.0)\n",
      "Rect(6.0, 6.0, 6.0, 6.0)\n",
      "Rect(384.0, 384.0, 384.0, 384.0)\n",
      "Rect(7.0, 6.0, 7.0, 6.0)\n",
      "Rect(448.0, 384.0, 448.0, 384.0)\n",
      "Rect(8.0, 6.0, 8.0, 6.0)\n",
      "Rect(512.0, 384.0, 512.0, 384.0)\n",
      "Rect(9.0, 6.0, 9.0, 6.0)\n",
      "Rect(576.0, 384.0, 576.0, 384.0)\n",
      "Rect(10.0, 6.0, 10.0, 6.0)\n",
      "Rect(640.0, 384.0, 640.0, 384.0)\n",
      "Rect(11.0, 6.0, 11.0, 6.0)\n",
      "Rect(704.0, 384.0, 704.0, 384.0)\n",
      "Rect(12.0, 6.0, 12.0, 6.0)\n",
      "Rect(768.0, 384.0, 768.0, 384.0)\n",
      "Rect(13.0, 6.0, 13.0, 6.0)\n",
      "Rect(832.0, 384.0, 832.0, 384.0)\n",
      "Rect(14.0, 6.0, 14.0, 6.0)\n",
      "Rect(896.0, 384.0, 896.0, 384.0)\n",
      "Rect(0.0, 7.0, 0.0, 7.0)\n",
      "Rect(0.0, 448.0, 0.0, 448.0)\n",
      "Rect(1.0, 7.0, 1.0, 7.0)\n",
      "Rect(64.0, 448.0, 64.0, 448.0)\n",
      "Rect(2.0, 7.0, 2.0, 7.0)\n",
      "Rect(128.0, 448.0, 128.0, 448.0)\n",
      "Rect(3.0, 7.0, 3.0, 7.0)\n",
      "Rect(192.0, 448.0, 192.0, 448.0)\n",
      "Rect(4.0, 7.0, 4.0, 7.0)\n",
      "Rect(256.0, 448.0, 256.0, 448.0)\n",
      "Rect(5.0, 7.0, 5.0, 7.0)\n",
      "Rect(320.0, 448.0, 320.0, 448.0)\n",
      "Rect(6.0, 7.0, 6.0, 7.0)\n",
      "Rect(384.0, 448.0, 384.0, 448.0)\n",
      "Rect(7.0, 7.0, 7.0, 7.0)\n",
      "Rect(448.0, 448.0, 448.0, 448.0)\n",
      "Rect(8.0, 7.0, 8.0, 7.0)\n",
      "Rect(512.0, 448.0, 512.0, 448.0)\n",
      "Rect(9.0, 7.0, 9.0, 7.0)\n",
      "Rect(576.0, 448.0, 576.0, 448.0)\n",
      "Rect(10.0, 7.0, 10.0, 7.0)\n",
      "Rect(640.0, 448.0, 640.0, 448.0)\n",
      "Rect(11.0, 7.0, 11.0, 7.0)\n",
      "Rect(704.0, 448.0, 704.0, 448.0)\n",
      "Rect(12.0, 7.0, 12.0, 7.0)\n",
      "Rect(768.0, 448.0, 768.0, 448.0)\n",
      "Rect(13.0, 7.0, 13.0, 7.0)\n",
      "Rect(832.0, 448.0, 832.0, 448.0)\n",
      "Rect(14.0, 7.0, 14.0, 7.0)\n",
      "Rect(896.0, 448.0, 896.0, 448.0)\n",
      "Rect(0.0, 8.0, 0.0, 8.0)\n",
      "Rect(0.0, 512.0, 0.0, 512.0)\n",
      "Rect(1.0, 8.0, 1.0, 8.0)\n",
      "Rect(64.0, 512.0, 64.0, 512.0)\n",
      "Rect(2.0, 8.0, 2.0, 8.0)\n",
      "Rect(128.0, 512.0, 128.0, 512.0)\n",
      "Rect(3.0, 8.0, 3.0, 8.0)\n",
      "Rect(192.0, 512.0, 192.0, 512.0)\n",
      "Rect(4.0, 8.0, 4.0, 8.0)\n",
      "Rect(256.0, 512.0, 256.0, 512.0)\n",
      "Rect(5.0, 8.0, 5.0, 8.0)\n",
      "Rect(320.0, 512.0, 320.0, 512.0)\n",
      "Rect(6.0, 8.0, 6.0, 8.0)\n",
      "Rect(384.0, 512.0, 384.0, 512.0)\n",
      "Rect(7.0, 8.0, 7.0, 8.0)\n",
      "Rect(448.0, 512.0, 448.0, 512.0)\n",
      "Rect(8.0, 8.0, 8.0, 8.0)\n",
      "Rect(512.0, 512.0, 512.0, 512.0)\n",
      "Rect(9.0, 8.0, 9.0, 8.0)\n",
      "Rect(576.0, 512.0, 576.0, 512.0)\n",
      "Rect(10.0, 8.0, 10.0, 8.0)\n",
      "Rect(640.0, 512.0, 640.0, 512.0)\n",
      "Rect(11.0, 8.0, 11.0, 8.0)\n",
      "Rect(704.0, 512.0, 704.0, 512.0)\n",
      "Rect(12.0, 8.0, 12.0, 8.0)\n",
      "Rect(768.0, 512.0, 768.0, 512.0)\n",
      "Rect(13.0, 8.0, 13.0, 8.0)\n",
      "Rect(832.0, 512.0, 832.0, 512.0)\n",
      "Rect(14.0, 8.0, 14.0, 8.0)\n",
      "Rect(896.0, 512.0, 896.0, 512.0)\n",
      "Rect(0.0, 9.0, 0.0, 9.0)\n",
      "Rect(0.0, 576.0, 0.0, 576.0)\n",
      "Rect(1.0, 9.0, 1.0, 9.0)\n",
      "Rect(64.0, 576.0, 64.0, 576.0)\n",
      "Rect(2.0, 9.0, 2.0, 9.0)\n",
      "Rect(128.0, 576.0, 128.0, 576.0)\n",
      "Rect(3.0, 9.0, 3.0, 9.0)\n",
      "Rect(192.0, 576.0, 192.0, 576.0)\n",
      "Rect(4.0, 9.0, 4.0, 9.0)\n",
      "Rect(256.0, 576.0, 256.0, 576.0)\n",
      "Rect(5.0, 9.0, 5.0, 9.0)\n",
      "Rect(320.0, 576.0, 320.0, 576.0)\n",
      "Rect(6.0, 9.0, 6.0, 9.0)\n",
      "Rect(384.0, 576.0, 384.0, 576.0)\n",
      "Rect(7.0, 9.0, 7.0, 9.0)\n",
      "Rect(448.0, 576.0, 448.0, 576.0)\n",
      "Rect(8.0, 9.0, 8.0, 9.0)\n",
      "Rect(512.0, 576.0, 512.0, 576.0)\n",
      "Rect(9.0, 9.0, 9.0, 9.0)\n",
      "Rect(576.0, 576.0, 576.0, 576.0)\n",
      "Rect(10.0, 9.0, 10.0, 9.0)\n",
      "Rect(640.0, 576.0, 640.0, 576.0)\n",
      "Rect(11.0, 9.0, 11.0, 9.0)\n",
      "Rect(704.0, 576.0, 704.0, 576.0)\n",
      "Rect(12.0, 9.0, 12.0, 9.0)\n",
      "Rect(768.0, 576.0, 768.0, 576.0)\n",
      "Rect(13.0, 9.0, 13.0, 9.0)\n",
      "Rect(832.0, 576.0, 832.0, 576.0)\n",
      "Rect(14.0, 9.0, 14.0, 9.0)\n",
      "Rect(896.0, 576.0, 896.0, 576.0)\n",
      "Rect(0.0, 10.0, 0.0, 10.0)\n",
      "Rect(0.0, 640.0, 0.0, 640.0)\n",
      "Rect(1.0, 10.0, 1.0, 10.0)\n",
      "Rect(64.0, 640.0, 64.0, 640.0)\n",
      "Rect(2.0, 10.0, 2.0, 10.0)\n",
      "Rect(128.0, 640.0, 128.0, 640.0)\n",
      "Rect(3.0, 10.0, 3.0, 10.0)\n",
      "Rect(192.0, 640.0, 192.0, 640.0)\n",
      "Rect(4.0, 10.0, 4.0, 10.0)\n",
      "Rect(256.0, 640.0, 256.0, 640.0)\n",
      "Rect(5.0, 10.0, 5.0, 10.0)\n",
      "Rect(320.0, 640.0, 320.0, 640.0)\n",
      "Rect(6.0, 10.0, 6.0, 10.0)\n",
      "Rect(384.0, 640.0, 384.0, 640.0)\n",
      "Rect(7.0, 10.0, 7.0, 10.0)\n",
      "Rect(448.0, 640.0, 448.0, 640.0)\n",
      "Rect(8.0, 10.0, 8.0, 10.0)\n",
      "Rect(512.0, 640.0, 512.0, 640.0)\n",
      "Rect(9.0, 10.0, 9.0, 10.0)\n",
      "Rect(576.0, 640.0, 576.0, 640.0)\n",
      "Rect(10.0, 10.0, 10.0, 10.0)\n",
      "Rect(640.0, 640.0, 640.0, 640.0)\n",
      "Rect(11.0, 10.0, 11.0, 10.0)\n",
      "Rect(704.0, 640.0, 704.0, 640.0)\n",
      "Rect(12.0, 10.0, 12.0, 10.0)\n",
      "Rect(768.0, 640.0, 768.0, 640.0)\n",
      "Rect(13.0, 10.0, 13.0, 10.0)\n",
      "Rect(832.0, 640.0, 832.0, 640.0)\n",
      "Rect(14.0, 10.0, 14.0, 10.0)\n",
      "Rect(896.0, 640.0, 896.0, 640.0)\n",
      "Rect(0.0, 11.0, 0.0, 11.0)\n",
      "Rect(0.0, 704.0, 0.0, 704.0)\n",
      "Rect(1.0, 11.0, 1.0, 11.0)\n",
      "Rect(64.0, 704.0, 64.0, 704.0)\n",
      "Rect(2.0, 11.0, 2.0, 11.0)\n",
      "Rect(128.0, 704.0, 128.0, 704.0)\n",
      "Rect(3.0, 11.0, 3.0, 11.0)\n",
      "Rect(192.0, 704.0, 192.0, 704.0)\n",
      "Rect(4.0, 11.0, 4.0, 11.0)\n",
      "Rect(256.0, 704.0, 256.0, 704.0)\n",
      "Rect(5.0, 11.0, 5.0, 11.0)\n",
      "Rect(320.0, 704.0, 320.0, 704.0)\n",
      "Rect(6.0, 11.0, 6.0, 11.0)\n",
      "Rect(384.0, 704.0, 384.0, 704.0)\n",
      "Rect(7.0, 11.0, 7.0, 11.0)\n",
      "Rect(448.0, 704.0, 448.0, 704.0)\n",
      "Rect(8.0, 11.0, 8.0, 11.0)\n",
      "Rect(512.0, 704.0, 512.0, 704.0)\n",
      "Rect(9.0, 11.0, 9.0, 11.0)\n",
      "Rect(576.0, 704.0, 576.0, 704.0)\n",
      "Rect(10.0, 11.0, 10.0, 11.0)\n",
      "Rect(640.0, 704.0, 640.0, 704.0)\n",
      "Rect(11.0, 11.0, 11.0, 11.0)\n",
      "Rect(704.0, 704.0, 704.0, 704.0)\n",
      "Rect(12.0, 11.0, 12.0, 11.0)\n",
      "Rect(768.0, 704.0, 768.0, 704.0)\n",
      "Rect(13.0, 11.0, 13.0, 11.0)\n",
      "Rect(832.0, 704.0, 832.0, 704.0)\n",
      "Rect(14.0, 11.0, 14.0, 11.0)\n",
      "Rect(896.0, 704.0, 896.0, 704.0)\n",
      "Rect(0.0, 12.0, 0.0, 12.0)\n",
      "Rect(0.0, 768.0, 0.0, 768.0)\n",
      "Rect(1.0, 12.0, 1.0, 12.0)\n",
      "Rect(64.0, 768.0, 64.0, 768.0)\n",
      "Rect(2.0, 12.0, 2.0, 12.0)\n",
      "Rect(128.0, 768.0, 128.0, 768.0)\n",
      "Rect(3.0, 12.0, 3.0, 12.0)\n",
      "Rect(192.0, 768.0, 192.0, 768.0)\n",
      "Rect(4.0, 12.0, 4.0, 12.0)\n",
      "Rect(256.0, 768.0, 256.0, 768.0)\n",
      "Rect(5.0, 12.0, 5.0, 12.0)\n",
      "Rect(320.0, 768.0, 320.0, 768.0)\n",
      "Rect(6.0, 12.0, 6.0, 12.0)\n",
      "Rect(384.0, 768.0, 384.0, 768.0)\n"
     ]
    },
    {
     "name": "stdout",
     "output_type": "stream",
     "text": [
      "Rect(7.0, 12.0, 7.0, 12.0)\n",
      "Rect(448.0, 768.0, 448.0, 768.0)\n",
      "Rect(8.0, 12.0, 8.0, 12.0)\n",
      "Rect(512.0, 768.0, 512.0, 768.0)\n",
      "Rect(9.0, 12.0, 9.0, 12.0)\n",
      "Rect(576.0, 768.0, 576.0, 768.0)\n",
      "Rect(10.0, 12.0, 10.0, 12.0)\n",
      "Rect(640.0, 768.0, 640.0, 768.0)\n",
      "Rect(11.0, 12.0, 11.0, 12.0)\n",
      "Rect(704.0, 768.0, 704.0, 768.0)\n",
      "Rect(12.0, 12.0, 12.0, 12.0)\n",
      "Rect(768.0, 768.0, 768.0, 768.0)\n",
      "Rect(13.0, 12.0, 13.0, 12.0)\n",
      "Rect(832.0, 768.0, 832.0, 768.0)\n",
      "Rect(14.0, 12.0, 14.0, 12.0)\n",
      "Rect(896.0, 768.0, 896.0, 768.0)\n",
      "Rect(0.0, 13.0, 0.0, 13.0)\n",
      "Rect(0.0, 832.0, 0.0, 832.0)\n",
      "Rect(1.0, 13.0, 1.0, 13.0)\n",
      "Rect(64.0, 832.0, 64.0, 832.0)\n",
      "Rect(2.0, 13.0, 2.0, 13.0)\n",
      "Rect(128.0, 832.0, 128.0, 832.0)\n",
      "Rect(3.0, 13.0, 3.0, 13.0)\n",
      "Rect(192.0, 832.0, 192.0, 832.0)\n",
      "Rect(4.0, 13.0, 4.0, 13.0)\n",
      "Rect(256.0, 832.0, 256.0, 832.0)\n",
      "Rect(5.0, 13.0, 5.0, 13.0)\n",
      "Rect(320.0, 832.0, 320.0, 832.0)\n",
      "Rect(6.0, 13.0, 6.0, 13.0)\n",
      "Rect(384.0, 832.0, 384.0, 832.0)\n",
      "Rect(7.0, 13.0, 7.0, 13.0)\n",
      "Rect(448.0, 832.0, 448.0, 832.0)\n",
      "Rect(8.0, 13.0, 8.0, 13.0)\n",
      "Rect(512.0, 832.0, 512.0, 832.0)\n",
      "Rect(9.0, 13.0, 9.0, 13.0)\n",
      "Rect(576.0, 832.0, 576.0, 832.0)\n",
      "Rect(10.0, 13.0, 10.0, 13.0)\n",
      "Rect(640.0, 832.0, 640.0, 832.0)\n",
      "Rect(11.0, 13.0, 11.0, 13.0)\n",
      "Rect(704.0, 832.0, 704.0, 832.0)\n",
      "Rect(12.0, 13.0, 12.0, 13.0)\n",
      "Rect(768.0, 832.0, 768.0, 832.0)\n",
      "Rect(13.0, 13.0, 13.0, 13.0)\n",
      "Rect(832.0, 832.0, 832.0, 832.0)\n",
      "Rect(14.0, 13.0, 14.0, 13.0)\n",
      "Rect(896.0, 832.0, 896.0, 832.0)\n",
      "Rect(0.0, 14.0, 0.0, 14.0)\n",
      "Rect(0.0, 896.0, 0.0, 896.0)\n",
      "Rect(1.0, 14.0, 1.0, 14.0)\n",
      "Rect(64.0, 896.0, 64.0, 896.0)\n",
      "Rect(2.0, 14.0, 2.0, 14.0)\n",
      "Rect(128.0, 896.0, 128.0, 896.0)\n",
      "Rect(3.0, 14.0, 3.0, 14.0)\n",
      "Rect(192.0, 896.0, 192.0, 896.0)\n",
      "Rect(4.0, 14.0, 4.0, 14.0)\n",
      "Rect(256.0, 896.0, 256.0, 896.0)\n",
      "Rect(5.0, 14.0, 5.0, 14.0)\n",
      "Rect(320.0, 896.0, 320.0, 896.0)\n",
      "Rect(6.0, 14.0, 6.0, 14.0)\n",
      "Rect(384.0, 896.0, 384.0, 896.0)\n",
      "Rect(7.0, 14.0, 7.0, 14.0)\n",
      "Rect(448.0, 896.0, 448.0, 896.0)\n",
      "Rect(8.0, 14.0, 8.0, 14.0)\n",
      "Rect(512.0, 896.0, 512.0, 896.0)\n",
      "Rect(9.0, 14.0, 9.0, 14.0)\n",
      "Rect(576.0, 896.0, 576.0, 896.0)\n",
      "Rect(10.0, 14.0, 10.0, 14.0)\n",
      "Rect(640.0, 896.0, 640.0, 896.0)\n",
      "Rect(11.0, 14.0, 11.0, 14.0)\n",
      "Rect(704.0, 896.0, 704.0, 896.0)\n",
      "Rect(12.0, 14.0, 12.0, 14.0)\n",
      "Rect(768.0, 896.0, 768.0, 896.0)\n",
      "Rect(13.0, 14.0, 13.0, 14.0)\n",
      "Rect(832.0, 896.0, 832.0, 896.0)\n",
      "Rect(14.0, 14.0, 14.0, 14.0)\n",
      "Rect(896.0, 896.0, 896.0, 896.0)\n",
      "[(1.0, Rect(47.25, 77.5, 122.75, 113.75)), (1.0, Rect(64.0, 77.5, 122.75, 113.75)), (1.0, Rect(336.0, 37.5, 434.75, 70.5)), (1.0, Rect(384.0, 37.5, 434.75, 70.5)), (1.0, Rect(47.25, 77.5, 122.75, 113.75)), (1.0, Rect(64.0, 77.5, 122.75, 113.75)), (0.0, Rect(128.0, 0.0, 128.0, 0.0)), (0.0, Rect(192.0, 0.0, 192.0, 0.0)), (0.0, Rect(256.0, 0.0, 256.0, 0.0)), (0.0, Rect(448.0, 0.0, 448.0, 0.0)), (0.0, Rect(512.0, 0.0, 512.0, 0.0)), (0.0, Rect(576.0, 0.0, 576.0, 0.0)), (0.0, Rect(640.0, 0.0, 640.0, 0.0)), (0.0, Rect(704.0, 0.0, 704.0, 0.0)), (0.0, Rect(768.0, 0.0, 768.0, 0.0)), (0.0, Rect(832.0, 0.0, 832.0, 0.0)), (0.0, Rect(896.0, 0.0, 896.0, 0.0)), (0.0, Rect(128.0, 64.0, 128.0, 64.0)), (0.0, Rect(192.0, 64.0, 192.0, 64.0)), (0.0, Rect(256.0, 64.0, 256.0, 64.0))]\n",
      "(1.0, 1.0, 1.0, 1.0, 1.0, 1.0, 0.0, 0.0, 0.0, 0.0, 0.0, 0.0, 0.0, 0.0, 0.0, 0.0, 0.0, 0.0, 0.0, 0.0)\n",
      "Rect(47.25, 77.5, 122.75, 113.75)\n",
      "Rect(64.0, 77.5, 122.75, 113.75)\n",
      "Rect(336.0, 37.5, 434.75, 70.5)\n",
      "Rect(384.0, 37.5, 434.75, 70.5)\n",
      "Rect(47.25, 77.5, 122.75, 113.75)\n",
      "Rect(64.0, 77.5, 122.75, 113.75)\n",
      "Rect(128.0, 0.0, 128.0, 0.0)\n",
      "Rect(192.0, 0.0, 192.0, 0.0)\n",
      "Rect(256.0, 0.0, 256.0, 0.0)\n",
      "Rect(448.0, 0.0, 448.0, 0.0)\n",
      "Rect(512.0, 0.0, 512.0, 0.0)\n",
      "Rect(576.0, 0.0, 576.0, 0.0)\n",
      "Rect(640.0, 0.0, 640.0, 0.0)\n",
      "Rect(704.0, 0.0, 704.0, 0.0)\n",
      "Rect(768.0, 0.0, 768.0, 0.0)\n",
      "Rect(832.0, 0.0, 832.0, 0.0)\n",
      "Rect(896.0, 0.0, 896.0, 0.0)\n",
      "Rect(128.0, 64.0, 128.0, 64.0)\n",
      "Rect(192.0, 64.0, 192.0, 64.0)\n",
      "Rect(256.0, 64.0, 256.0, 64.0)\n"
     ]
    }
   ],
   "source": [
    "confs, rects = ssd_converter.restore_rects(tensors, top=20)\n",
    "print confs\n",
    "for rect in rects:\n",
    "    print rect"
   ]
  },
  {
   "cell_type": "code",
   "execution_count": 24,
   "metadata": {
    "collapsed": true
   },
   "outputs": [],
   "source": [
    "tr = [] #Rect(0.319444444444,0.0138888888889,0.723424641979,0.417869086423)]"
   ]
  },
  {
   "cell_type": "code",
   "execution_count": 25,
   "metadata": {
    "collapsed": true
   },
   "outputs": [],
   "source": [
    "i = 0"
   ]
  },
  {
   "cell_type": "code",
   "execution_count": 26,
   "metadata": {
    "scrolled": false
   },
   "outputs": [
    {
     "name": "stdout",
     "output_type": "stream",
     "text": [
      "255.0 0.0\n",
      "Rect(47.25, 77.5, 122.75, 113.75)\n",
      "Rect(64.0, 77.5, 122.75, 113.75)\n",
      "Rect(336.0, 37.5, 434.75, 70.5)\n",
      "Rect(384.0, 37.5, 434.75, 70.5)\n",
      "Rect(47.25, 77.5, 122.75, 113.75)\n",
      "Rect(64.0, 77.5, 122.75, 113.75)\n",
      "Rect(128.0, 0, 128.0, 0.0)\n",
      "Rect(192.0, 0, 192.0, 0.0)\n",
      "Rect(256.0, 0, 256.0, 0.0)\n",
      "Rect(448.0, 0, 448.0, 0.0)\n",
      "Rect(512.0, 0, 512, 0.0)\n",
      "Rect(576.0, 0, 512, 0.0)\n",
      "Rect(640.0, 0, 512, 0.0)\n",
      "Rect(704.0, 0, 512, 0.0)\n",
      "Rect(768.0, 0, 512, 0.0)\n",
      "Rect(832.0, 0, 512, 0.0)\n",
      "Rect(896.0, 0, 512, 0.0)\n",
      "Rect(128.0, 64.0, 128.0, 64.0)\n",
      "Rect(192.0, 64.0, 192.0, 64.0)\n",
      "Rect(256.0, 64.0, 256.0, 64.0)\n"
     ]
    },
    {
     "data": {
      "image/png": "[encoded data removed]",
      "text/plain": [
       "<matplotlib.figure.Figure at 0x7fe2d609b690>"
      ]
     },
     "metadata": {},
     "output_type": "display_data"
    }
   ],
   "source": [
    "# Create figure and axes\n",
    "fig,ax = plt.subplots(1, figsize=(12, 12))\n",
    "\n",
    "# Display the image\n",
    "show_img_from_gen(ax, gen)\n",
    "shape = gen[0]['input'].shape[1:3]\n",
    "\n",
    "#r = patches.Rectangle((50,50),100,100,linewidth=2,edgecolor='r',facecolor='none')\n",
    "#ax.add_patch(r)\n",
    "\n",
    "from rect import Rect\n",
    "def clip_rect(rect, h, w):\n",
    "    return Rect(max(0, rect.left), max(0, rect.top), min(w, rect.right), min(h, rect.bottom))\n",
    "\n",
    "for rect in rects[:]:\n",
    "    # Create a Rectangle patch\n",
    "    rr = clip_rect(rect, shape[0], shape[1])\n",
    "    print rr\n",
    "    #rr.dump()\n",
    "    #rr.stretch(300, 300)\n",
    "    #rr.dump()\n",
    "    r = patches.Rectangle((rr.left,rr.top),rr.width(),rr.height(),linewidth=1.5,edgecolor='r' ,facecolor='none')\n",
    "\n",
    "    # Add the patch to the Axes\n",
    "    ax.add_patch(r)\n",
    "    \n",
    "cnt = 8\n",
    "edge = shape[0] / cnt\n",
    "    \n",
    "for i in range(cnt):\n",
    "    for j in range(cnt):\n",
    "    # Create a Rectangle patch\n",
    "        rr = Rect(edge * i, edge * j, edge * (i + 1), edge * (j + 1))\n",
    "        r = patches.Rectangle((rr.left,rr.top),rr.width(),rr.height(),linewidth=0.5,edgecolor='b',facecolor='none')\n",
    "\n",
    "        # Add the patch to the Axes\n",
    "        ax.add_patch(r)\n",
    "    \n",
    "for rect in []: #tr:\n",
    "    # Create a Rectangle patch\n",
    "    #rr = rect.copy()\n",
    "    #rr.stretch(300, 300)\n",
    "    r = patches.Rectangle((rr.left,rr.top),rr.width(),rr.height(),linewidth=1.5,edgecolor='g',facecolor='none')\n",
    "\n",
    "    # Add the patch to the Axes\n",
    "    ax.add_patch(r)\n",
    "\n",
    "plt.show()\n",
    "\n",
    "i += 1"
   ]
  },
  {
   "cell_type": "code",
   "execution_count": null,
   "metadata": {
    "collapsed": true
   },
   "outputs": [],
   "source": []
  }
 ],
 "metadata": {
  "kernelspec": {
   "display_name": "Python 2",
   "language": "python",
   "name": "python2"
  },
  "language_info": {
   "codemirror_mode": {
    "name": "ipython",
    "version": 2
   },
   "file_extension": ".py",
   "mimetype": "text/x-python",
   "name": "python",
   "nbconvert_exporter": "python",
   "pygments_lexer": "ipython2",
   "version": "2.7.14"
  }
 },
 "nbformat": 4,
 "nbformat_minor": 2
}
