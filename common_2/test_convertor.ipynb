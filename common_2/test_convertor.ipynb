{
 "cells": [
  {
   "cell_type": "code",
   "execution_count": 1,
   "metadata": {},
   "outputs": [
    {
     "name": "stdout",
     "output_type": "stream",
     "text": [
      "/home/nik-kochetov/work/common\n",
      "/home/nik-kochetov/work/Barcodes/Images\n",
      "/home/nik-kochetov/work/Barcodes/Annotations\n",
      "/home/nik-kochetov/work/VOC/JPEGImages\n"
     ]
    }
   ],
   "source": [
    "import os\n",
    "BAR = 'Barcodes'\n",
    "ROOT = os.path.join(open('../root').read().strip(), 'common')\n",
    "print ROOT\n",
    "img_path = os.path.join(os.path.dirname(ROOT), BAR, 'Images')\n",
    "print img_path\n",
    "conf_path = os.path.join(os.path.dirname(ROOT), BAR, 'Annotations')\n",
    "print conf_path\n",
    "voc_path = os.path.join(os.path.dirname(ROOT), 'VOC', 'JPEGImages')\n",
    "print voc_path"
   ]
  },
  {
   "cell_type": "code",
   "execution_count": 2,
   "metadata": {},
   "outputs": [
    {
     "name": "stderr",
     "output_type": "stream",
     "text": [
      "Using Theano backend.\n"
     ]
    },
    {
     "name": "stdout",
     "output_type": "stream",
     "text": [
      "(None, None, None, 1)\n",
      "(None, None, None, 1)\n",
      "(None, None, None, 1)\n",
      "(None, None, None, 1)\n",
      "(None, None, None, 1)\n",
      "(None, None, None, 1)\n",
      "(None, None, None, 1)\n",
      "(None, None, None, 1)\n",
      "(None, None, None, 1)\n",
      "(None, None, None, 1)\n",
      "(None, None, None, 1)\n",
      "(None, None, None, 1)\n",
      "(None, None, None, 1)\n",
      "(None, None, None, 1)\n",
      "(None, None, None, 1)\n",
      "(None, None, None, 1)\n",
      "(None, None, None, 1)\n",
      "(None, None, None, 1)\n",
      "(None, None, None, 1)\n",
      "(None, None, None, 1)\n",
      "(None, None, None, 1)\n",
      "(None, None, None, 1)\n",
      "(None, None, None, 1)\n",
      "(None, None, None, 1)\n",
      "(None, None, None, 1)\n",
      "skip weight for: block4_pool\n",
      "skip weight for: block5_conv1\n",
      "skip weight for: block5_conv2\n",
      "skip weight for: block5_conv3\n",
      "skip weight for: block5_pool\n"
     ]
    }
   ],
   "source": [
    "from model import SSDModel\n",
    "ssd_model = SSDModel()"
   ]
  },
  {
   "cell_type": "code",
   "execution_count": 3,
   "metadata": {
    "scrolled": true
   },
   "outputs": [
    {
     "name": "stdout",
     "output_type": "stream",
     "text": [
      "10 files to process\n",
      "0 Interleaved_2_of_5_(1)_0088_15.xml 5\n",
      "1 Interleaved_2_of_5_Check_0099_0.xml 2\n",
      "2 Code_128A_0174_42.xml 6\n",
      "3 Interleaved_2_of_5_(1)_0240_15.xml 8\n",
      "4 Interleaved_2_of_5_Check_0227_1.xml 0\n",
      "5 Interleaved_2_of_5_(1)_0287_31.xml 0\n",
      "6 Reclamations_Interleaved_2_of_5_0061_25.xml 7\n",
      "7 Code_128A_0258_30.xml 19\n",
      "8 Code_128C_0278_6.xml 2\n",
      "9 Code_128B_0136_42.xml 4\n"
     ]
    }
   ],
   "source": [
    "import converter\n",
    "reload(converter)\n",
    "from converter import Converter\n",
    "ssd_converter = Converter(ROOT)\n",
    "ssd_converter.process_rects(conf_path, ssd_model, 10, 1)"
   ]
  },
  {
   "cell_type": "code",
   "execution_count": null,
   "metadata": {
    "collapsed": true
   },
   "outputs": [],
   "source": []
  },
  {
   "cell_type": "code",
   "execution_count": 4,
   "metadata": {
    "collapsed": true
   },
   "outputs": [],
   "source": [
    "from matplotlib.pyplot import imshow\n",
    "import numpy as np\n",
    "from PIL import Image\n",
    "\n",
    "import matplotlib.pyplot as plt\n",
    "import matplotlib.patches as patches\n",
    "%matplotlib inline"
   ]
  },
  {
   "cell_type": "code",
   "execution_count": 5,
   "metadata": {},
   "outputs": [
    {
     "name": "stdout",
     "output_type": "stream",
     "text": [
      "['1x1_block4_class', '2x1_block4_class', '3x1_block4_class', '1x2_block4_class', '1x3_block4_class']\n",
      "['1x1_dy_block4_bbox', '1x1_dx_block4_bbox', '1x1_sh_block4_bbox', '1x1_sw_block4_bbox', '2x1_dy_block4_bbox', '2x1_dx_block4_bbox', '2x1_sh_block4_bbox', '2x1_sw_block4_bbox', '3x1_dy_block4_bbox', '3x1_dx_block4_bbox', '3x1_sh_block4_bbox', '3x1_sw_block4_bbox', '1x2_dy_block4_bbox', '1x2_dx_block4_bbox', '1x2_sh_block4_bbox', '1x2_sw_block4_bbox', '1x3_dy_block4_bbox', '1x3_dx_block4_bbox', '1x3_sh_block4_bbox', '1x3_sw_block4_bbox']\n"
     ]
    }
   ],
   "source": [
    "print ssd_model.cls_names\n",
    "print ssd_model.bbox_names"
   ]
  },
  {
   "cell_type": "code",
   "execution_count": 6,
   "metadata": {
    "collapsed": true
   },
   "outputs": [],
   "source": [
    "def tensor_dict_to_list(model, tensor_dict):\n",
    "    lst = []\n",
    "    for name in ssd_model.bbox_names:\n",
    "        lst.append(tensor_dict[name])\n",
    "    for name in ssd_model.cls_names:\n",
    "        lst.append(tensor_dict[name])\n",
    "    return lst"
   ]
  },
  {
   "cell_type": "code",
   "execution_count": 7,
   "metadata": {
    "collapsed": true
   },
   "outputs": [],
   "source": [
    "import generator\n",
    "reload(generator)\n",
    "from generator import Generator\n",
    "ssd_generator = Generator(img_path, voc_path, ssd_model, None, 0.0)"
   ]
  },
  {
   "cell_type": "code",
   "execution_count": 8,
   "metadata": {
    "collapsed": true
   },
   "outputs": [],
   "source": [
    "gen = ssd_generator.generate(ssd_converter.processed_rects, 1, True)"
   ]
  },
  {
   "cell_type": "code",
   "execution_count": 9,
   "metadata": {
    "scrolled": true
   },
   "outputs": [
    {
     "name": "stdout",
     "output_type": "stream",
     "text": [
      "/home/nik-kochetov/work/Barcodes/Images/Code_128C_0278_6.jpg\n",
      "#########\n",
      "#########\n",
      "#########\n",
      "(1, 4, 4, 2) [ 0.11547005  1.          0.11547005  1.        ]\n",
      "(1, 4, 4, 2) [ 0.14433757  1.         -0.14433757  1.        ]\n",
      "(1, 4, 4, 2) [-0.45399596  1.         -0.45399596  1.        ]\n",
      "(1, 4, 4, 2) [ 0.14384104  1.          0.14384104  1.        ]\n",
      "(1, 4, 4, 1) [ 1.  1.]\n"
     ]
    }
   ],
   "source": [
    "# print next(gen)[1]\n",
    "for i in range(10):\n",
    "    tensor = tensor_dict_to_list(ssd_model, next(gen)[1])\n",
    "    has = False\n",
    "    for t in tensor:\n",
    "        if np.any(t[np.nonzero(t)]):\n",
    "            print t.shape, t[np.nonzero(t)]\n",
    "            has = True\n",
    "    if has:\n",
    "        break\n",
    "    print '#########'"
   ]
  },
  {
   "cell_type": "code",
   "execution_count": 10,
   "metadata": {},
   "outputs": [
    {
     "name": "stdout",
     "output_type": "stream",
     "text": [
      "25\n",
      "(1, 4, 4, 2)\n",
      "(1, 4, 4, 2)\n",
      "(1, 4, 4, 2)\n",
      "(1, 4, 4, 2)\n",
      "(1, 4, 4, 2)\n",
      "(1, 4, 4, 2)\n",
      "(1, 4, 4, 2)\n",
      "(1, 4, 4, 2)\n",
      "(1, 4, 4, 2)\n",
      "(1, 4, 4, 2)\n",
      "(1, 4, 4, 2)\n",
      "(1, 4, 4, 2)\n",
      "(1, 4, 4, 2)\n",
      "(1, 4, 4, 2)\n",
      "(1, 4, 4, 2)\n",
      "(1, 4, 4, 2)\n",
      "(1, 4, 4, 2)\n",
      "(1, 4, 4, 2)\n",
      "(1, 4, 4, 2)\n",
      "(1, 4, 4, 2)\n",
      "(1, 4, 4, 1)\n",
      "(1, 4, 4, 1)\n",
      "(1, 4, 4, 1)\n",
      "(1, 4, 4, 1)\n",
      "(1, 4, 4, 1)\n"
     ]
    }
   ],
   "source": [
    "print len(tensor)\n",
    "for val in tensor:\n",
    "    print val.shape"
   ]
  },
  {
   "cell_type": "code",
   "execution_count": 11,
   "metadata": {},
   "outputs": [
    {
     "data": {
      "text/plain": [
       "<matplotlib.image.AxesImage at 0x7f3735fa9490>"
      ]
     },
     "execution_count": 11,
     "metadata": {},
     "output_type": "execute_result"
    },
    {
     "data": {
      "image/png": "[encoded data removed]",
      "text/plain": [
       "<matplotlib.figure.Figure at 0x7f3736394a10>"
      ]
     },
     "metadata": {},
     "output_type": "display_data"
    }
   ],
   "source": [
    "img = np.asarray(Image.open(os.path.join(img_path, 'Code_128C_0278_6.jpg')))\n",
    "imshow(img)"
   ]
  },
  {
   "cell_type": "code",
   "execution_count": 12,
   "metadata": {},
   "outputs": [
    {
     "name": "stdout",
     "output_type": "stream",
     "text": [
      "4 4\n",
      "(1, 4, 4, 1)\n",
      "[(0.0, <rect.Rect instance at 0x7f37363bb3b0>), (0.0, <rect.Rect instance at 0x7f37363bb998>), (0.0, <rect.Rect instance at 0x7f3739655c68>), (0.0, <rect.Rect instance at 0x7f37363bbab8>), (0.0, <rect.Rect instance at 0x7f37363a8248>), (0.0, <rect.Rect instance at 0x7f3735fb2f80>), (0.0, <rect.Rect instance at 0x7f3735fb2e60>), (0.0, <rect.Rect instance at 0x7f3735fe6fc8>), (0.0, <rect.Rect instance at 0x7f3735fe6908>), (0.0, <rect.Rect instance at 0x7f37705a9830>)]\n",
      "4 4\n",
      "(1, 4, 4, 1)\n",
      "[(0.0, <rect.Rect instance at 0x7f37363bb3b0>), (0.0, <rect.Rect instance at 0x7f37363bb998>), (0.0, <rect.Rect instance at 0x7f3739655c68>), (0.0, <rect.Rect instance at 0x7f37363bbab8>), (0.0, <rect.Rect instance at 0x7f37363a8248>), (0.0, <rect.Rect instance at 0x7f3735fb2f80>), (0.0, <rect.Rect instance at 0x7f3735fb2e60>), (0.0, <rect.Rect instance at 0x7f3735fe6fc8>), (0.0, <rect.Rect instance at 0x7f3735fe6908>), (0.0, <rect.Rect instance at 0x7f37705a9830>), (0.0, <rect.Rect instance at 0x7f3735fbc320>), (0.0, <rect.Rect instance at 0x7f3735fbc440>), (0.0, <rect.Rect instance at 0x7f3736114830>), (0.0, <rect.Rect instance at 0x7f3735fbc368>), (0.0, <rect.Rect instance at 0x7f3735fbc518>), (0.0, <rect.Rect instance at 0x7f3735fbc3b0>), (0.0, <rect.Rect instance at 0x7f3735f68a70>), (0.0, <rect.Rect instance at 0x7f3735f68ab8>), (0.0, <rect.Rect instance at 0x7f3735f689e0>), (0.0, <rect.Rect instance at 0x7f3735f68908>)]\n",
      "4 4\n",
      "(1, 4, 4, 1)\n",
      "1.0\n",
      "1.0\n",
      "[(0.0, <rect.Rect instance at 0x7f37363bb3b0>), (0.0, <rect.Rect instance at 0x7f37363bb998>), (0.0, <rect.Rect instance at 0x7f3739655c68>), (0.0, <rect.Rect instance at 0x7f37363bbab8>), (0.0, <rect.Rect instance at 0x7f37363a8248>), (0.0, <rect.Rect instance at 0x7f3735fb2f80>), (0.0, <rect.Rect instance at 0x7f3735fb2e60>), (0.0, <rect.Rect instance at 0x7f3735fe6fc8>), (0.0, <rect.Rect instance at 0x7f3735fe6908>), (0.0, <rect.Rect instance at 0x7f37705a9830>), (1.0, <rect.Rect instance at 0x7f3735f711b8>), (1.0, <rect.Rect instance at 0x7f3735f71a28>), (0.0, <rect.Rect instance at 0x7f3735fbc440>), (0.0, <rect.Rect instance at 0x7f3735fbc320>), (0.0, <rect.Rect instance at 0x7f3736114830>), (0.0, <rect.Rect instance at 0x7f3735fbc368>), (0.0, <rect.Rect instance at 0x7f3735fbc518>), (0.0, <rect.Rect instance at 0x7f3735fbc3b0>), (0.0, <rect.Rect instance at 0x7f3735f68a70>), (0.0, <rect.Rect instance at 0x7f3735f68ab8>)]\n",
      "4 4\n",
      "(1, 4, 4, 1)\n",
      "[(1.0, <rect.Rect instance at 0x7f3735f711b8>), (1.0, <rect.Rect instance at 0x7f3735f71a28>), (0.0, <rect.Rect instance at 0x7f37363bb3b0>), (0.0, <rect.Rect instance at 0x7f37363bb998>), (0.0, <rect.Rect instance at 0x7f3739655c68>), (0.0, <rect.Rect instance at 0x7f37363bbab8>), (0.0, <rect.Rect instance at 0x7f37363a8248>), (0.0, <rect.Rect instance at 0x7f3735fb2f80>), (0.0, <rect.Rect instance at 0x7f3735fb2e60>), (0.0, <rect.Rect instance at 0x7f3735fe6fc8>), (0.0, <rect.Rect instance at 0x7f3735fbc320>), (0.0, <rect.Rect instance at 0x7f3735fbc440>), (0.0, <rect.Rect instance at 0x7f3736114830>), (0.0, <rect.Rect instance at 0x7f3735fbc368>), (0.0, <rect.Rect instance at 0x7f3735fbc518>), (0.0, <rect.Rect instance at 0x7f3735fbc3b0>), (0.0, <rect.Rect instance at 0x7f3735f68a70>), (0.0, <rect.Rect instance at 0x7f3735f68ab8>), (0.0, <rect.Rect instance at 0x7f3735f689e0>), (0.0, <rect.Rect instance at 0x7f3735f68908>)]\n",
      "4 4\n",
      "(1, 4, 4, 1)\n",
      "[(1.0, <rect.Rect instance at 0x7f3735f711b8>), (1.0, <rect.Rect instance at 0x7f3735f71a28>), (0.0, <rect.Rect instance at 0x7f37363bb3b0>), (0.0, <rect.Rect instance at 0x7f37363bb998>), (0.0, <rect.Rect instance at 0x7f3739655c68>), (0.0, <rect.Rect instance at 0x7f37363bbab8>), (0.0, <rect.Rect instance at 0x7f37363a8248>), (0.0, <rect.Rect instance at 0x7f3735fb2f80>), (0.0, <rect.Rect instance at 0x7f3735fb2e60>), (0.0, <rect.Rect instance at 0x7f3735fe6fc8>), (0.0, <rect.Rect instance at 0x7f3735fbc440>), (0.0, <rect.Rect instance at 0x7f3735fbc320>), (0.0, <rect.Rect instance at 0x7f3736114830>), (0.0, <rect.Rect instance at 0x7f3735fbc368>), (0.0, <rect.Rect instance at 0x7f3735fbc518>), (0.0, <rect.Rect instance at 0x7f3735fbc3b0>), (0.0, <rect.Rect instance at 0x7f3735f68a70>), (0.0, <rect.Rect instance at 0x7f3735f68ab8>), (0.0, <rect.Rect instance at 0x7f3735f689e0>), (0.0, <rect.Rect instance at 0x7f3735f68908>)]\n",
      "[ 1.  1.  0.  0.  0.  0.  0.  0.  0.  0.]\n",
      "l=0.158493649054,t=0.802831216351,r=0.591506350946,b=0.947168783649\n",
      "l=0.408493649054,t=0.802831216351,r=0.841506350946,b=0.947168783649\n",
      "l=0.09375,t=0.09375,r=0.15625,b=0.15625\n",
      "l=0.34375,t=0.09375,r=0.40625,b=0.15625\n",
      "l=0.59375,t=0.09375,r=0.65625,b=0.15625\n",
      "l=0.84375,t=0.09375,r=0.90625,b=0.15625\n",
      "l=0.09375,t=0.34375,r=0.15625,b=0.40625\n",
      "l=0.34375,t=0.34375,r=0.40625,b=0.40625\n",
      "l=0.59375,t=0.34375,r=0.65625,b=0.40625\n",
      "l=0.84375,t=0.34375,r=0.90625,b=0.40625\n"
     ]
    }
   ],
   "source": [
    "confs, rects = ssd_converter.restore_rects_batch([tensor], ssd_model, top=10)\n",
    "print confs\n",
    "for rect in rects:\n",
    "    rect.dump()"
   ]
  },
  {
   "cell_type": "code",
   "execution_count": 13,
   "metadata": {},
   "outputs": [
    {
     "name": "stdout",
     "output_type": "stream",
     "text": [
      "l=0,t=245,r=300,b=300\n",
      "l=0,t=0,r=300,b=120\n"
     ]
    }
   ],
   "source": [
    "from rect import Rect\n",
    "from converter import RectsInfo\n",
    "info = RectsInfo('Code_128C_0278_6.xml')\n",
    "info.load_rects(conf_path)\n",
    "correct = info.rects\n",
    "for rect in correct:\n",
    "    rect.dump()"
   ]
  },
  {
   "cell_type": "code",
   "execution_count": 14,
   "metadata": {
    "collapsed": true
   },
   "outputs": [],
   "source": [
    "tr = [] #Rect(0.319444444444,0.0138888888889,0.723424641979,0.417869086423)]"
   ]
  },
  {
   "cell_type": "code",
   "execution_count": 15,
   "metadata": {
    "collapsed": true
   },
   "outputs": [],
   "source": [
    "i = 0"
   ]
  },
  {
   "cell_type": "code",
   "execution_count": 18,
   "metadata": {
    "scrolled": false
   },
   "outputs": [
    {
     "name": "stdout",
     "output_type": "stream",
     "text": [
      "l=0.158493649054,t=0.802831216351,r=0.591506350946,b=0.947168783649\n",
      "l=47.5480947162,t=240.849364905,r=177.451905284,b=284.150635095\n",
      "l=0.408493649054,t=0.802831216351,r=0.841506350946,b=0.947168783649\n",
      "l=122.548094716,t=240.849364905,r=252.451905284,b=284.150635095\n"
     ]
    },
    {
     "data": {
      "image/png": "[encoded data removed]",
      "text/plain": [
       "<matplotlib.figure.Figure at 0x7f3733f06cd0>"
      ]
     },
     "metadata": {},
     "output_type": "display_data"
    }
   ],
   "source": [
    "# Create figure and axes\n",
    "fig,ax = plt.subplots(1, figsize=(12, 10))\n",
    "\n",
    "# Display the image\n",
    "ax.imshow(img)\n",
    "\n",
    "#r = patches.Rectangle((50,50),100,100,linewidth=2,edgecolor='r',facecolor='none')\n",
    "#ax.add_patch(r)\n",
    "\n",
    "for rect in rects[:2]:\n",
    "    # Create a Rectangle patch\n",
    "    rr = rect.copy()\n",
    "    rr.dump()\n",
    "    rr.stretch(300, 300)\n",
    "    rr.dump()\n",
    "    r = patches.Rectangle((rr.left,rr.top),rr.width(),rr.height(),linewidth=1.5,edgecolor='r',facecolor='none')\n",
    "\n",
    "    # Add the patch to the Axes\n",
    "    ax.add_patch(r)\n",
    "    \n",
    "for rect in correct:\n",
    "    # Create a Rectangle patch\n",
    "    rr = rect.copy()\n",
    "    r = patches.Rectangle((rr.left,rr.top),rr.width(),rr.height(),linewidth=1.5,edgecolor='b',facecolor='none')\n",
    "\n",
    "    # Add the patch to the Axes\n",
    "    ax.add_patch(r)\n",
    "    \n",
    "for rect in []: #tr:\n",
    "    # Create a Rectangle patch\n",
    "    rr = rect.copy()\n",
    "    rr.stretch(300, 300)\n",
    "    r = patches.Rectangle((rr.left,rr.top),rr.width(),rr.height(),linewidth=1.5,edgecolor='g',facecolor='none')\n",
    "\n",
    "    # Add the patch to the Axes\n",
    "    ax.add_patch(r)\n",
    "\n",
    "plt.show()\n",
    "\n",
    "i += 1"
   ]
  },
  {
   "cell_type": "code",
   "execution_count": null,
   "metadata": {
    "collapsed": true
   },
   "outputs": [],
   "source": []
  },
  {
   "cell_type": "code",
   "execution_count": null,
   "metadata": {
    "collapsed": true
   },
   "outputs": [],
   "source": []
  }
 ],
 "metadata": {
  "kernelspec": {
   "display_name": "Python 2",
   "language": "python",
   "name": "python2"
  },
  "language_info": {
   "codemirror_mode": {
    "name": "ipython",
    "version": 2
   },
   "file_extension": ".py",
   "mimetype": "text/x-python",
   "name": "python",
   "nbconvert_exporter": "python",
   "pygments_lexer": "ipython2",
   "version": "2.7.14"
  }
 },
 "nbformat": 4,
 "nbformat_minor": 2
}
